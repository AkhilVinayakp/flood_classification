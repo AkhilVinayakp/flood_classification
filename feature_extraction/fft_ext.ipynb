{
 "cells": [
  {
   "cell_type": "code",
   "execution_count": 1,
   "metadata": {},
   "outputs": [
    {
     "name": "stderr",
     "output_type": "stream",
     "text": [
      "/home/po/anaconda3/envs/Py_ml_ud/lib/python3.6/importlib/_bootstrap.py:219: RuntimeWarning: numpy.ufunc size changed, may indicate binary incompatibility. Expected 192 from C header, got 216 from PyObject\n",
      "  return f(*args, **kwds)\n",
      "/home/po/anaconda3/envs/Py_ml_ud/lib/python3.6/importlib/_bootstrap.py:219: RuntimeWarning: numpy.ufunc size changed, may indicate binary incompatibility. Expected 192 from C header, got 216 from PyObject\n",
      "  return f(*args, **kwds)\n",
      "/home/po/anaconda3/envs/Py_ml_ud/lib/python3.6/importlib/_bootstrap.py:219: RuntimeWarning: numpy.ufunc size changed, may indicate binary incompatibility. Expected 192 from C header, got 216 from PyObject\n",
      "  return f(*args, **kwds)\n",
      "/home/po/anaconda3/envs/Py_ml_ud/lib/python3.6/importlib/_bootstrap.py:219: RuntimeWarning: numpy.ufunc size changed, may indicate binary incompatibility. Expected 192 from C header, got 216 from PyObject\n",
      "  return f(*args, **kwds)\n",
      "/home/po/anaconda3/envs/Py_ml_ud/lib/python3.6/importlib/_bootstrap.py:219: RuntimeWarning: numpy.ufunc size changed, may indicate binary incompatibility. Expected 192 from C header, got 216 from PyObject\n",
      "  return f(*args, **kwds)\n"
     ]
    }
   ],
   "source": [
    "import numpy as np\n",
    "import turicreate\n",
    "import pandas as pd\n",
    "import matplotlib.pyplot as plt"
   ]
  },
  {
   "cell_type": "code",
   "execution_count": 2,
   "metadata": {},
   "outputs": [
    {
     "name": "stdout",
     "output_type": "stream",
     "text": [
      "/home/po/projects/flood_classification/feature_extraction\r\n"
     ]
    }
   ],
   "source": [
    "!pwd"
   ]
  },
  {
   "cell_type": "code",
   "execution_count": 5,
   "metadata": {},
   "outputs": [],
   "source": [
    "data = pd.read_csv('../data/filt_data.csv')"
   ]
  },
  {
   "cell_type": "code",
   "execution_count": 6,
   "metadata": {},
   "outputs": [
    {
     "data": {
      "text/html": [
       "<div>\n",
       "<style scoped>\n",
       "    .dataframe tbody tr th:only-of-type {\n",
       "        vertical-align: middle;\n",
       "    }\n",
       "\n",
       "    .dataframe tbody tr th {\n",
       "        vertical-align: top;\n",
       "    }\n",
       "\n",
       "    .dataframe thead th {\n",
       "        text-align: right;\n",
       "    }\n",
       "</style>\n",
       "<table border=\"1\" class=\"dataframe\">\n",
       "  <thead>\n",
       "    <tr style=\"text-align: right;\">\n",
       "      <th></th>\n",
       "      <th>gx</th>\n",
       "      <th>gy</th>\n",
       "      <th>gz</th>\n",
       "      <th>ax</th>\n",
       "      <th>ay</th>\n",
       "      <th>az</th>\n",
       "      <th>wx</th>\n",
       "      <th>wy</th>\n",
       "      <th>wz</th>\n",
       "      <th>label</th>\n",
       "    </tr>\n",
       "  </thead>\n",
       "  <tbody>\n",
       "    <tr>\n",
       "      <th>0</th>\n",
       "      <td>1.01600</td>\n",
       "      <td>9.61500</td>\n",
       "      <td>1.63700</td>\n",
       "      <td>-0.46600</td>\n",
       "      <td>-1.91300</td>\n",
       "      <td>-1.02200</td>\n",
       "      <td>0.02900</td>\n",
       "      <td>-0.23100</td>\n",
       "      <td>-0.53300</td>\n",
       "      <td>0.0</td>\n",
       "    </tr>\n",
       "    <tr>\n",
       "      <th>1</th>\n",
       "      <td>0.69400</td>\n",
       "      <td>9.64500</td>\n",
       "      <td>1.63200</td>\n",
       "      <td>-0.94100</td>\n",
       "      <td>-2.20800</td>\n",
       "      <td>-0.31700</td>\n",
       "      <td>-0.05400</td>\n",
       "      <td>0.36400</td>\n",
       "      <td>-0.09500</td>\n",
       "      <td>0.0</td>\n",
       "    </tr>\n",
       "    <tr>\n",
       "      <th>2</th>\n",
       "      <td>0.84000</td>\n",
       "      <td>9.62500</td>\n",
       "      <td>1.68300</td>\n",
       "      <td>0.64200</td>\n",
       "      <td>-1.15400</td>\n",
       "      <td>-1.06800</td>\n",
       "      <td>-0.14300</td>\n",
       "      <td>-0.57800</td>\n",
       "      <td>0.18500</td>\n",
       "      <td>0.0</td>\n",
       "    </tr>\n",
       "    <tr>\n",
       "      <th>3</th>\n",
       "      <td>0.85500</td>\n",
       "      <td>9.66800</td>\n",
       "      <td>1.40300</td>\n",
       "      <td>1.52700</td>\n",
       "      <td>1.57500</td>\n",
       "      <td>-1.18500</td>\n",
       "      <td>0.23200</td>\n",
       "      <td>0.16000</td>\n",
       "      <td>-0.53100</td>\n",
       "      <td>0.0</td>\n",
       "    </tr>\n",
       "    <tr>\n",
       "      <th>4</th>\n",
       "      <td>0.52100</td>\n",
       "      <td>9.73400</td>\n",
       "      <td>1.07500</td>\n",
       "      <td>-0.15400</td>\n",
       "      <td>4.81600</td>\n",
       "      <td>-0.19800</td>\n",
       "      <td>0.05800</td>\n",
       "      <td>-0.15800</td>\n",
       "      <td>0.07800</td>\n",
       "      <td>0.0</td>\n",
       "    </tr>\n",
       "    <tr>\n",
       "      <th>...</th>\n",
       "      <td>...</td>\n",
       "      <td>...</td>\n",
       "      <td>...</td>\n",
       "      <td>...</td>\n",
       "      <td>...</td>\n",
       "      <td>...</td>\n",
       "      <td>...</td>\n",
       "      <td>...</td>\n",
       "      <td>...</td>\n",
       "      <td>...</td>\n",
       "    </tr>\n",
       "    <tr>\n",
       "      <th>22593</th>\n",
       "      <td>0.65943</td>\n",
       "      <td>4.70249</td>\n",
       "      <td>8.58034</td>\n",
       "      <td>0.25970</td>\n",
       "      <td>0.00449</td>\n",
       "      <td>0.62383</td>\n",
       "      <td>-0.07692</td>\n",
       "      <td>-0.06419</td>\n",
       "      <td>-0.16707</td>\n",
       "      <td>2.5</td>\n",
       "    </tr>\n",
       "    <tr>\n",
       "      <th>22594</th>\n",
       "      <td>0.50070</td>\n",
       "      <td>4.43200</td>\n",
       "      <td>8.73368</td>\n",
       "      <td>1.11125</td>\n",
       "      <td>-0.70083</td>\n",
       "      <td>1.84900</td>\n",
       "      <td>-0.56322</td>\n",
       "      <td>-0.21066</td>\n",
       "      <td>-0.68532</td>\n",
       "      <td>2.5</td>\n",
       "    </tr>\n",
       "    <tr>\n",
       "      <th>22595</th>\n",
       "      <td>0.21700</td>\n",
       "      <td>4.59765</td>\n",
       "      <td>8.65938</td>\n",
       "      <td>0.15993</td>\n",
       "      <td>-0.60136</td>\n",
       "      <td>0.55145</td>\n",
       "      <td>0.50471</td>\n",
       "      <td>0.01837</td>\n",
       "      <td>-0.09995</td>\n",
       "      <td>2.5</td>\n",
       "    </tr>\n",
       "    <tr>\n",
       "      <th>22596</th>\n",
       "      <td>0.16437</td>\n",
       "      <td>4.88976</td>\n",
       "      <td>8.49904</td>\n",
       "      <td>0.70071</td>\n",
       "      <td>-0.50386</td>\n",
       "      <td>-0.53511</td>\n",
       "      <td>0.50206</td>\n",
       "      <td>-0.36832</td>\n",
       "      <td>-0.29810</td>\n",
       "      <td>2.5</td>\n",
       "    </tr>\n",
       "    <tr>\n",
       "      <th>22597</th>\n",
       "      <td>0.12494</td>\n",
       "      <td>5.49104</td>\n",
       "      <td>8.12424</td>\n",
       "      <td>0.15885</td>\n",
       "      <td>0.46833</td>\n",
       "      <td>-1.05965</td>\n",
       "      <td>0.87117</td>\n",
       "      <td>-0.43916</td>\n",
       "      <td>-0.19795</td>\n",
       "      <td>2.5</td>\n",
       "    </tr>\n",
       "  </tbody>\n",
       "</table>\n",
       "<p>22598 rows × 10 columns</p>\n",
       "</div>"
      ],
      "text/plain": [
       "            gx       gy       gz       ax       ay       az       wx       wy  \\\n",
       "0      1.01600  9.61500  1.63700 -0.46600 -1.91300 -1.02200  0.02900 -0.23100   \n",
       "1      0.69400  9.64500  1.63200 -0.94100 -2.20800 -0.31700 -0.05400  0.36400   \n",
       "2      0.84000  9.62500  1.68300  0.64200 -1.15400 -1.06800 -0.14300 -0.57800   \n",
       "3      0.85500  9.66800  1.40300  1.52700  1.57500 -1.18500  0.23200  0.16000   \n",
       "4      0.52100  9.73400  1.07500 -0.15400  4.81600 -0.19800  0.05800 -0.15800   \n",
       "...        ...      ...      ...      ...      ...      ...      ...      ...   \n",
       "22593  0.65943  4.70249  8.58034  0.25970  0.00449  0.62383 -0.07692 -0.06419   \n",
       "22594  0.50070  4.43200  8.73368  1.11125 -0.70083  1.84900 -0.56322 -0.21066   \n",
       "22595  0.21700  4.59765  8.65938  0.15993 -0.60136  0.55145  0.50471  0.01837   \n",
       "22596  0.16437  4.88976  8.49904  0.70071 -0.50386 -0.53511  0.50206 -0.36832   \n",
       "22597  0.12494  5.49104  8.12424  0.15885  0.46833 -1.05965  0.87117 -0.43916   \n",
       "\n",
       "            wz  label  \n",
       "0     -0.53300    0.0  \n",
       "1     -0.09500    0.0  \n",
       "2      0.18500    0.0  \n",
       "3     -0.53100    0.0  \n",
       "4      0.07800    0.0  \n",
       "...        ...    ...  \n",
       "22593 -0.16707    2.5  \n",
       "22594 -0.68532    2.5  \n",
       "22595 -0.09995    2.5  \n",
       "22596 -0.29810    2.5  \n",
       "22597 -0.19795    2.5  \n",
       "\n",
       "[22598 rows x 10 columns]"
      ]
     },
     "execution_count": 6,
     "metadata": {},
     "output_type": "execute_result"
    }
   ],
   "source": [
    "data"
   ]
  },
  {
   "cell_type": "code",
   "execution_count": 20,
   "metadata": {},
   "outputs": [],
   "source": [
    "gx = data.gx[:50]"
   ]
  },
  {
   "cell_type": "code",
   "execution_count": 21,
   "metadata": {},
   "outputs": [
    {
     "data": {
      "text/plain": [
       "0     1.016\n",
       "1     0.694\n",
       "2     0.840\n",
       "3     0.855\n",
       "4     0.521\n",
       "5     0.743\n",
       "6     0.943\n",
       "7     0.697\n",
       "8     0.752\n",
       "9     0.801\n",
       "10    1.065\n",
       "11    1.269\n",
       "12    1.131\n",
       "13    0.943\n",
       "14    1.270\n",
       "15    1.277\n",
       "16    1.066\n",
       "17    1.009\n",
       "18    1.022\n",
       "19    0.828\n",
       "20    0.670\n",
       "21    0.694\n",
       "22    0.527\n",
       "23    0.670\n",
       "24    0.771\n",
       "25    0.818\n",
       "26    0.676\n",
       "27    0.547\n",
       "28    0.372\n",
       "29    0.410\n",
       "30    0.263\n",
       "31    0.331\n",
       "32    0.467\n",
       "33    0.420\n",
       "34    0.351\n",
       "35    0.327\n",
       "36    0.307\n",
       "37    0.488\n",
       "38    0.433\n",
       "39    0.387\n",
       "40    0.240\n",
       "41    0.097\n",
       "42   -0.158\n",
       "43   -0.154\n",
       "44    0.092\n",
       "45    0.234\n",
       "46    0.263\n",
       "47    0.391\n",
       "48    0.714\n",
       "49    0.641\n",
       "Name: gx, dtype: float64"
      ]
     },
     "execution_count": 21,
     "metadata": {},
     "output_type": "execute_result"
    }
   ],
   "source": [
    "gx"
   ]
  },
  {
   "cell_type": "code",
   "execution_count": 24,
   "metadata": {},
   "outputs": [
    {
     "data": {
      "text/plain": [
       "[<matplotlib.lines.Line2D at 0x7fdc38f4e978>]"
      ]
     },
     "execution_count": 24,
     "metadata": {},
     "output_type": "execute_result"
    },
    {
     "data": {
      "image/png": "[encoded data removed]",
      "text/plain": [
       "<Figure size 432x288 with 1 Axes>"
      ]
     },
     "metadata": {
      "needs_background": "light"
     },
     "output_type": "display_data"
    }
   ],
   "source": [
    "plt.plot(gx)\n"
   ]
  },
  {
   "cell_type": "code",
   "execution_count": 25,
   "metadata": {},
   "outputs": [
    {
     "data": {
      "text/plain": [
       "<StemContainer object of 3 artists>"
      ]
     },
     "execution_count": 25,
     "metadata": {},
     "output_type": "execute_result"
    },
    {
     "data": {
      "image/png": "[encoded data removed]",
      "text/plain": [
       "<Figure size 432x288 with 1 Axes>"
      ]
     },
     "metadata": {
      "needs_background": "light"
     },
     "output_type": "display_data"
    }
   ],
   "source": [
    "plt.stem(gx,use_line_collection=True)"
   ]
  },
  {
   "cell_type": "code",
   "execution_count": 28,
   "metadata": {},
   "outputs": [
    {
     "data": {
      "text/plain": [
       "46"
      ]
     },
     "execution_count": 28,
     "metadata": {},
     "output_type": "execute_result"
    }
   ],
   "source": [
    "len(gx.unique())"
   ]
  },
  {
   "cell_type": "code",
   "execution_count": 30,
   "metadata": {},
   "outputs": [],
   "source": [
    "import scipy.fftpack as fft"
   ]
  },
  {
   "cell_type": "code",
   "execution_count": 32,
   "metadata": {},
   "outputs": [],
   "source": [
    "f = fft.rfft(np.array(gx))"
   ]
  },
  {
   "cell_type": "code",
   "execution_count": 39,
   "metadata": {},
   "outputs": [
    {
     "data": {
      "text/plain": [
       "array([ 3.10310000e+01, -9.39925119e-01, -1.03147424e+01, -7.88420502e-01,\n",
       "       -1.13077764e+00,  2.86736434e+00, -1.44209032e-02,  3.90954376e+00,\n",
       "       -1.39890424e-01, -1.60063859e-01,  9.77100139e-01,  6.53858332e-01,\n",
       "        6.36379352e-01, -1.42901987e+00, -2.55323592e-01,  9.52456221e-01,\n",
       "       -3.92107997e-01,  8.57643077e-01,  2.11756960e-01,  8.07821579e-01,\n",
       "       -2.03158044e-01, -3.64589505e-01, -7.66507338e-01, -8.46358907e-01,\n",
       "        7.20443965e-01, -7.39743652e-01,  1.00937973e+00,  4.03939314e-01,\n",
       "        6.61828990e-02, -3.00936141e-01, -2.98957051e-01,  2.14849226e-01,\n",
       "        5.02317626e-01,  1.24606154e+00,  3.71260877e-01,  5.38415567e-01,\n",
       "       -3.51540009e-01,  8.68808337e-01, -4.73635851e-01,  3.09178421e-01,\n",
       "       -2.41219421e-01,  2.84066543e-01, -3.13312232e-01,  4.97867735e-01,\n",
       "       -4.50987374e-01,  1.86834308e-01, -1.82662734e-02,  7.56349251e-01,\n",
       "        3.18223703e-01,  1.97000000e-01])"
      ]
     },
     "execution_count": 39,
     "metadata": {},
     "output_type": "execute_result"
    }
   ],
   "source": [
    "f"
   ]
  },
  {
   "cell_type": "code",
   "execution_count": 35,
   "metadata": {},
   "outputs": [
    {
     "data": {
      "text/plain": [
       "[<matplotlib.lines.Line2D at 0x7fdc16d1e2b0>]"
      ]
     },
     "execution_count": 35,
     "metadata": {},
     "output_type": "execute_result"
    },
    {
     "data": {
      "image/png": "[encoded data removed]",
      "text/plain": [
       "<Figure size 432x288 with 2 Axes>"
      ]
     },
     "metadata": {
      "needs_background": "light"
     },
     "output_type": "display_data"
    }
   ],
   "source": [
    "fig, axs = plt.subplots(2)\n",
    "fig.suptitle('Vertically stacked subplots')\n",
    "axs[0].plot(gx)\n",
    "axs[1].plot(f)\n"
   ]
  },
  {
   "cell_type": "code",
   "execution_count": 64,
   "metadata": {},
   "outputs": [
    {
     "data": {
      "text/plain": [
       "<StemContainer object of 3 artists>"
      ]
     },
     "execution_count": 64,
     "metadata": {},
     "output_type": "execute_result"
    },
    {
     "data": {
      "text/plain": [
       "<Figure size 10080x10080 with 0 Axes>"
      ]
     },
     "metadata": {},
     "output_type": "display_data"
    },
    {
     "data": {
      "image/png": "[encoded data removed]",
      "text/plain": [
       "<Figure size 432x288 with 2 Axes>"
      ]
     },
     "metadata": {
      "needs_background": "light"
     },
     "output_type": "display_data"
    }
   ],
   "source": [
    "\n",
    "fig, axs = plt.subplots(2)\n",
    "fig.suptitle('Vertically stacked subplots')\n",
    "axs[0].stem(gx,use_line_collection=True)\n",
    "axs[1].stem(f,use_line_collection=True)\n"
   ]
  },
  {
   "cell_type": "code",
   "execution_count": 40,
   "metadata": {},
   "outputs": [
    {
     "data": {
      "text/plain": [
       "(array([ 1.,  0., 46.,  2.,  0.,  0.,  0.,  0.,  0.,  1.]),\n",
       " array([-10.31474236,  -6.18016812,  -2.04559389,   2.08898035,\n",
       "          6.22355458,  10.35812882,  14.49270306,  18.62727729,\n",
       "         22.76185153,  26.89642576,  31.031     ]),\n",
       " <a list of 10 Patch objects>)"
      ]
     },
     "execution_count": 40,
     "metadata": {},
     "output_type": "execute_result"
    },
    {
     "data": {
      "image/png": "[encoded data removed]",
      "text/plain": [
       "<Figure size 432x288 with 1 Axes>"
      ]
     },
     "metadata": {
      "needs_background": "light"
     },
     "output_type": "display_data"
    }
   ],
   "source": [
    "plt.hist(f)"
   ]
  },
  {
   "cell_type": "code",
   "execution_count": 65,
   "metadata": {},
   "outputs": [],
   "source": [
    "co = f[:6]"
   ]
  },
  {
   "cell_type": "code",
   "execution_count": 66,
   "metadata": {},
   "outputs": [
    {
     "data": {
      "text/plain": [
       "array([ 31.031     ,  -0.93992512, -10.31474236,  -0.7884205 ,\n",
       "        -1.13077764,   2.86736434])"
      ]
     },
     "execution_count": 66,
     "metadata": {},
     "output_type": "execute_result"
    }
   ],
   "source": [
    "co"
   ]
  },
  {
   "cell_type": "code",
   "execution_count": 67,
   "metadata": {},
   "outputs": [
    {
     "data": {
      "text/plain": [
       "<StemContainer object of 3 artists>"
      ]
     },
     "execution_count": 67,
     "metadata": {},
     "output_type": "execute_result"
    },
    {
     "data": {
      "image/png": "[encoded data removed]",
      "text/plain": [
       "<Figure size 432x288 with 1 Axes>"
      ]
     },
     "metadata": {
      "needs_background": "light"
     },
     "output_type": "display_data"
    }
   ],
   "source": [
    "plt.stem(co,use_line_collection=True)"
   ]
  },
  {
   "cell_type": "code",
   "execution_count": 68,
   "metadata": {},
   "outputs": [
    {
     "data": {
      "text/plain": [
       "[<matplotlib.lines.Line2D at 0x7fdc151cfd30>]"
      ]
     },
     "execution_count": 68,
     "metadata": {},
     "output_type": "execute_result"
    },
    {
     "data": {
      "image/png": "[encoded data removed]",
      "text/plain": [
       "<Figure size 432x288 with 1 Axes>"
      ]
     },
     "metadata": {
      "needs_background": "light"
     },
     "output_type": "display_data"
    }
   ],
   "source": [
    "plt.plot(co)"
   ]
  },
  {
   "cell_type": "code",
   "execution_count": 70,
   "metadata": {},
   "outputs": [],
   "source": [
    "# using fftshift\n"
   ]
  },
  {
   "cell_type": "code",
   "execution_count": 71,
   "metadata": {},
   "outputs": [
    {
     "data": {
      "text/plain": [
       "0     1.016\n",
       "1     0.694\n",
       "2     0.840\n",
       "3     0.855\n",
       "4     0.521\n",
       "5     0.743\n",
       "6     0.943\n",
       "7     0.697\n",
       "8     0.752\n",
       "9     0.801\n",
       "10    1.065\n",
       "11    1.269\n",
       "12    1.131\n",
       "13    0.943\n",
       "14    1.270\n",
       "15    1.277\n",
       "16    1.066\n",
       "17    1.009\n",
       "18    1.022\n",
       "19    0.828\n",
       "20    0.670\n",
       "21    0.694\n",
       "22    0.527\n",
       "23    0.670\n",
       "24    0.771\n",
       "25    0.818\n",
       "26    0.676\n",
       "27    0.547\n",
       "28    0.372\n",
       "29    0.410\n",
       "30    0.263\n",
       "31    0.331\n",
       "32    0.467\n",
       "33    0.420\n",
       "34    0.351\n",
       "35    0.327\n",
       "36    0.307\n",
       "37    0.488\n",
       "38    0.433\n",
       "39    0.387\n",
       "40    0.240\n",
       "41    0.097\n",
       "42   -0.158\n",
       "43   -0.154\n",
       "44    0.092\n",
       "45    0.234\n",
       "46    0.263\n",
       "47    0.391\n",
       "48    0.714\n",
       "49    0.641\n",
       "Name: gx, dtype: float64"
      ]
     },
     "execution_count": 71,
     "metadata": {},
     "output_type": "execute_result"
    }
   ],
   "source": [
    "gx"
   ]
  },
  {
   "cell_type": "code",
   "execution_count": 73,
   "metadata": {},
   "outputs": [],
   "source": [
    "sh = fft.fftshift(fft.rfft(np.array(gx)))"
   ]
  },
  {
   "cell_type": "code",
   "execution_count": 75,
   "metadata": {},
   "outputs": [
    {
     "data": {
      "text/plain": [
       "array([-7.39743652e-01,  1.00937973e+00,  4.03939314e-01,  6.61828990e-02,\n",
       "       -3.00936141e-01, -2.98957051e-01,  2.14849226e-01,  5.02317626e-01,\n",
       "        1.24606154e+00,  3.71260877e-01,  5.38415567e-01, -3.51540009e-01,\n",
       "        8.68808337e-01, -4.73635851e-01,  3.09178421e-01, -2.41219421e-01,\n",
       "        2.84066543e-01, -3.13312232e-01,  4.97867735e-01, -4.50987374e-01,\n",
       "        1.86834308e-01, -1.82662734e-02,  7.56349251e-01,  3.18223703e-01,\n",
       "        1.97000000e-01,  3.10310000e+01, -9.39925119e-01, -1.03147424e+01,\n",
       "       -7.88420502e-01, -1.13077764e+00,  2.86736434e+00, -1.44209032e-02,\n",
       "        3.90954376e+00, -1.39890424e-01, -1.60063859e-01,  9.77100139e-01,\n",
       "        6.53858332e-01,  6.36379352e-01, -1.42901987e+00, -2.55323592e-01,\n",
       "        9.52456221e-01, -3.92107997e-01,  8.57643077e-01,  2.11756960e-01,\n",
       "        8.07821579e-01, -2.03158044e-01, -3.64589505e-01, -7.66507338e-01,\n",
       "       -8.46358907e-01,  7.20443965e-01])"
      ]
     },
     "execution_count": 75,
     "metadata": {},
     "output_type": "execute_result"
    }
   ],
   "source": [
    "sh"
   ]
  },
  {
   "cell_type": "code",
   "execution_count": 76,
   "metadata": {},
   "outputs": [
    {
     "data": {
      "text/plain": [
       "50"
      ]
     },
     "execution_count": 76,
     "metadata": {},
     "output_type": "execute_result"
    }
   ],
   "source": [
    "len(sh)"
   ]
  },
  {
   "cell_type": "code",
   "execution_count": 86,
   "metadata": {},
   "outputs": [
    {
     "data": {
      "text/plain": [
       "<StemContainer object of 3 artists>"
      ]
     },
     "execution_count": 86,
     "metadata": {},
     "output_type": "execute_result"
    },
    {
     "data": {
      "image/png": "[encoded data removed]",
      "text/plain": [
       "<Figure size 720x1440 with 1 Axes>"
      ]
     },
     "metadata": {
      "needs_background": "light"
     },
     "output_type": "display_data"
    }
   ],
   "source": [
    "plt.figure(figsize=(10,20))\n",
    "plt.stem(sh,use_line_collection=True)"
   ]
  },
  {
   "cell_type": "code",
   "execution_count": 85,
   "metadata": {},
   "outputs": [
    {
     "data": {
      "text/plain": [
       "<StemContainer object of 3 artists>"
      ]
     },
     "execution_count": 85,
     "metadata": {},
     "output_type": "execute_result"
    },
    {
     "data": {
      "image/png": "[encoded data removed]",
      "text/plain": [
       "<Figure size 1440x2160 with 2 Axes>"
      ]
     },
     "metadata": {
      "needs_background": "light"
     },
     "output_type": "display_data"
    }
   ],
   "source": [
    "fig, axs = plt.subplots(2,figsize=(20,30))\n",
    "fig.suptitle('Vertically stacked subplots')\n",
    "axs[0].stem(gx,use_line_collection=True)\n",
    "axs[1].stem(sh,use_line_collection=True)"
   ]
  },
  {
   "cell_type": "code",
   "execution_count": null,
   "metadata": {},
   "outputs": [],
   "source": []
  }
 ],
 "metadata": {
  "kernelspec": {
   "display_name": "Python 3",
   "language": "python",
   "name": "python3"
  },
  "language_info": {
   "codemirror_mode": {
    "name": "ipython",
    "version": 3
   },
   "file_extension": ".py",
   "mimetype": "text/x-python",
   "name": "python",
   "nbconvert_exporter": "python",
   "pygments_lexer": "ipython3",
   "version": "3.6.10"
  }
 },
 "nbformat": 4,
 "nbformat_minor": 4
}
