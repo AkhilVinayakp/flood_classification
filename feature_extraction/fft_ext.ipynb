{
 "cells": [
  {
   "cell_type": "code",
   "execution_count": 3,
   "metadata": {},
   "outputs": [],
   "source": [
    "import numpy as np\n",
    "import turicreate\n",
    "import pandas as pd\n",
    "import matplotlib.pyplot as plt"
   ]
  },
  {
   "cell_type": "code",
   "execution_count": 4,
   "metadata": {},
   "outputs": [
    {
     "name": "stdout",
     "output_type": "stream",
     "text": [
      "/home/po/projects/flood_classification/feature_extraction\r\n"
     ]
    }
   ],
   "source": [
    "!pwd"
   ]
  },
  {
   "cell_type": "code",
   "execution_count": 5,
   "metadata": {},
   "outputs": [],
   "source": [
    "data = pd.read_csv('../data/filt_data.csv')"
   ]
  },
  {
   "cell_type": "code",
   "execution_count": 6,
   "metadata": {},
   "outputs": [
    {
     "data": {
      "text/html": [
       "<div>\n",
       "<style scoped>\n",
       "    .dataframe tbody tr th:only-of-type {\n",
       "        vertical-align: middle;\n",
       "    }\n",
       "\n",
       "    .dataframe tbody tr th {\n",
       "        vertical-align: top;\n",
       "    }\n",
       "\n",
       "    .dataframe thead th {\n",
       "        text-align: right;\n",
       "    }\n",
       "</style>\n",
       "<table border=\"1\" class=\"dataframe\">\n",
       "  <thead>\n",
       "    <tr style=\"text-align: right;\">\n",
       "      <th></th>\n",
       "      <th>gx</th>\n",
       "      <th>gy</th>\n",
       "      <th>gz</th>\n",
       "      <th>ax</th>\n",
       "      <th>ay</th>\n",
       "      <th>az</th>\n",
       "      <th>wx</th>\n",
       "      <th>wy</th>\n",
       "      <th>wz</th>\n",
       "      <th>label</th>\n",
       "    </tr>\n",
       "  </thead>\n",
       "  <tbody>\n",
       "    <tr>\n",
       "      <th>0</th>\n",
       "      <td>1.01600</td>\n",
       "      <td>9.61500</td>\n",
       "      <td>1.63700</td>\n",
       "      <td>-0.46600</td>\n",
       "      <td>-1.91300</td>\n",
       "      <td>-1.02200</td>\n",
       "      <td>0.02900</td>\n",
       "      <td>-0.23100</td>\n",
       "      <td>-0.53300</td>\n",
       "      <td>0.0</td>\n",
       "    </tr>\n",
       "    <tr>\n",
       "      <th>1</th>\n",
       "      <td>0.69400</td>\n",
       "      <td>9.64500</td>\n",
       "      <td>1.63200</td>\n",
       "      <td>-0.94100</td>\n",
       "      <td>-2.20800</td>\n",
       "      <td>-0.31700</td>\n",
       "      <td>-0.05400</td>\n",
       "      <td>0.36400</td>\n",
       "      <td>-0.09500</td>\n",
       "      <td>0.0</td>\n",
       "    </tr>\n",
       "    <tr>\n",
       "      <th>2</th>\n",
       "      <td>0.84000</td>\n",
       "      <td>9.62500</td>\n",
       "      <td>1.68300</td>\n",
       "      <td>0.64200</td>\n",
       "      <td>-1.15400</td>\n",
       "      <td>-1.06800</td>\n",
       "      <td>-0.14300</td>\n",
       "      <td>-0.57800</td>\n",
       "      <td>0.18500</td>\n",
       "      <td>0.0</td>\n",
       "    </tr>\n",
       "    <tr>\n",
       "      <th>3</th>\n",
       "      <td>0.85500</td>\n",
       "      <td>9.66800</td>\n",
       "      <td>1.40300</td>\n",
       "      <td>1.52700</td>\n",
       "      <td>1.57500</td>\n",
       "      <td>-1.18500</td>\n",
       "      <td>0.23200</td>\n",
       "      <td>0.16000</td>\n",
       "      <td>-0.53100</td>\n",
       "      <td>0.0</td>\n",
       "    </tr>\n",
       "    <tr>\n",
       "      <th>4</th>\n",
       "      <td>0.52100</td>\n",
       "      <td>9.73400</td>\n",
       "      <td>1.07500</td>\n",
       "      <td>-0.15400</td>\n",
       "      <td>4.81600</td>\n",
       "      <td>-0.19800</td>\n",
       "      <td>0.05800</td>\n",
       "      <td>-0.15800</td>\n",
       "      <td>0.07800</td>\n",
       "      <td>0.0</td>\n",
       "    </tr>\n",
       "    <tr>\n",
       "      <th>...</th>\n",
       "      <td>...</td>\n",
       "      <td>...</td>\n",
       "      <td>...</td>\n",
       "      <td>...</td>\n",
       "      <td>...</td>\n",
       "      <td>...</td>\n",
       "      <td>...</td>\n",
       "      <td>...</td>\n",
       "      <td>...</td>\n",
       "      <td>...</td>\n",
       "    </tr>\n",
       "    <tr>\n",
       "      <th>22593</th>\n",
       "      <td>0.65943</td>\n",
       "      <td>4.70249</td>\n",
       "      <td>8.58034</td>\n",
       "      <td>0.25970</td>\n",
       "      <td>0.00449</td>\n",
       "      <td>0.62383</td>\n",
       "      <td>-0.07692</td>\n",
       "      <td>-0.06419</td>\n",
       "      <td>-0.16707</td>\n",
       "      <td>2.5</td>\n",
       "    </tr>\n",
       "    <tr>\n",
       "      <th>22594</th>\n",
       "      <td>0.50070</td>\n",
       "      <td>4.43200</td>\n",
       "      <td>8.73368</td>\n",
       "      <td>1.11125</td>\n",
       "      <td>-0.70083</td>\n",
       "      <td>1.84900</td>\n",
       "      <td>-0.56322</td>\n",
       "      <td>-0.21066</td>\n",
       "      <td>-0.68532</td>\n",
       "      <td>2.5</td>\n",
       "    </tr>\n",
       "    <tr>\n",
       "      <th>22595</th>\n",
       "      <td>0.21700</td>\n",
       "      <td>4.59765</td>\n",
       "      <td>8.65938</td>\n",
       "      <td>0.15993</td>\n",
       "      <td>-0.60136</td>\n",
       "      <td>0.55145</td>\n",
       "      <td>0.50471</td>\n",
       "      <td>0.01837</td>\n",
       "      <td>-0.09995</td>\n",
       "      <td>2.5</td>\n",
       "    </tr>\n",
       "    <tr>\n",
       "      <th>22596</th>\n",
       "      <td>0.16437</td>\n",
       "      <td>4.88976</td>\n",
       "      <td>8.49904</td>\n",
       "      <td>0.70071</td>\n",
       "      <td>-0.50386</td>\n",
       "      <td>-0.53511</td>\n",
       "      <td>0.50206</td>\n",
       "      <td>-0.36832</td>\n",
       "      <td>-0.29810</td>\n",
       "      <td>2.5</td>\n",
       "    </tr>\n",
       "    <tr>\n",
       "      <th>22597</th>\n",
       "      <td>0.12494</td>\n",
       "      <td>5.49104</td>\n",
       "      <td>8.12424</td>\n",
       "      <td>0.15885</td>\n",
       "      <td>0.46833</td>\n",
       "      <td>-1.05965</td>\n",
       "      <td>0.87117</td>\n",
       "      <td>-0.43916</td>\n",
       "      <td>-0.19795</td>\n",
       "      <td>2.5</td>\n",
       "    </tr>\n",
       "  </tbody>\n",
       "</table>\n",
       "<p>22598 rows × 10 columns</p>\n",
       "</div>"
      ],
      "text/plain": [
       "            gx       gy       gz       ax       ay       az       wx       wy  \\\n",
       "0      1.01600  9.61500  1.63700 -0.46600 -1.91300 -1.02200  0.02900 -0.23100   \n",
       "1      0.69400  9.64500  1.63200 -0.94100 -2.20800 -0.31700 -0.05400  0.36400   \n",
       "2      0.84000  9.62500  1.68300  0.64200 -1.15400 -1.06800 -0.14300 -0.57800   \n",
       "3      0.85500  9.66800  1.40300  1.52700  1.57500 -1.18500  0.23200  0.16000   \n",
       "4      0.52100  9.73400  1.07500 -0.15400  4.81600 -0.19800  0.05800 -0.15800   \n",
       "...        ...      ...      ...      ...      ...      ...      ...      ...   \n",
       "22593  0.65943  4.70249  8.58034  0.25970  0.00449  0.62383 -0.07692 -0.06419   \n",
       "22594  0.50070  4.43200  8.73368  1.11125 -0.70083  1.84900 -0.56322 -0.21066   \n",
       "22595  0.21700  4.59765  8.65938  0.15993 -0.60136  0.55145  0.50471  0.01837   \n",
       "22596  0.16437  4.88976  8.49904  0.70071 -0.50386 -0.53511  0.50206 -0.36832   \n",
       "22597  0.12494  5.49104  8.12424  0.15885  0.46833 -1.05965  0.87117 -0.43916   \n",
       "\n",
       "            wz  label  \n",
       "0     -0.53300    0.0  \n",
       "1     -0.09500    0.0  \n",
       "2      0.18500    0.0  \n",
       "3     -0.53100    0.0  \n",
       "4      0.07800    0.0  \n",
       "...        ...    ...  \n",
       "22593 -0.16707    2.5  \n",
       "22594 -0.68532    2.5  \n",
       "22595 -0.09995    2.5  \n",
       "22596 -0.29810    2.5  \n",
       "22597 -0.19795    2.5  \n",
       "\n",
       "[22598 rows x 10 columns]"
      ]
     },
     "execution_count": 6,
     "metadata": {},
     "output_type": "execute_result"
    }
   ],
   "source": [
    "data"
   ]
  },
  {
   "cell_type": "code",
   "execution_count": 7,
   "metadata": {},
   "outputs": [],
   "source": [
    "gx = data.gx[:50]"
   ]
  },
  {
   "cell_type": "code",
   "execution_count": 8,
   "metadata": {},
   "outputs": [
    {
     "data": {
      "text/plain": [
       "0     1.016\n",
       "1     0.694\n",
       "2     0.840\n",
       "3     0.855\n",
       "4     0.521\n",
       "5     0.743\n",
       "6     0.943\n",
       "7     0.697\n",
       "8     0.752\n",
       "9     0.801\n",
       "10    1.065\n",
       "11    1.269\n",
       "12    1.131\n",
       "13    0.943\n",
       "14    1.270\n",
       "15    1.277\n",
       "16    1.066\n",
       "17    1.009\n",
       "18    1.022\n",
       "19    0.828\n",
       "20    0.670\n",
       "21    0.694\n",
       "22    0.527\n",
       "23    0.670\n",
       "24    0.771\n",
       "25    0.818\n",
       "26    0.676\n",
       "27    0.547\n",
       "28    0.372\n",
       "29    0.410\n",
       "30    0.263\n",
       "31    0.331\n",
       "32    0.467\n",
       "33    0.420\n",
       "34    0.351\n",
       "35    0.327\n",
       "36    0.307\n",
       "37    0.488\n",
       "38    0.433\n",
       "39    0.387\n",
       "40    0.240\n",
       "41    0.097\n",
       "42   -0.158\n",
       "43   -0.154\n",
       "44    0.092\n",
       "45    0.234\n",
       "46    0.263\n",
       "47    0.391\n",
       "48    0.714\n",
       "49    0.641\n",
       "Name: gx, dtype: float64"
      ]
     },
     "execution_count": 8,
     "metadata": {},
     "output_type": "execute_result"
    }
   ],
   "source": [
    "gx"
   ]
  },
  {
   "cell_type": "code",
   "execution_count": 9,
   "metadata": {},
   "outputs": [
    {
     "data": {
      "text/plain": [
       "[<matplotlib.lines.Line2D at 0x7fca5c8c5748>]"
      ]
     },
     "execution_count": 9,
     "metadata": {},
     "output_type": "execute_result"
    },
    {
     "data": {
      "image/png": "[encoded data removed]",
      "text/plain": [
       "<Figure size 432x288 with 1 Axes>"
      ]
     },
     "metadata": {
      "needs_background": "light"
     },
     "output_type": "display_data"
    }
   ],
   "source": [
    "plt.plot(gx)\n"
   ]
  },
  {
   "cell_type": "code",
   "execution_count": 10,
   "metadata": {},
   "outputs": [
    {
     "data": {
      "text/plain": [
       "<StemContainer object of 3 artists>"
      ]
     },
     "execution_count": 10,
     "metadata": {},
     "output_type": "execute_result"
    },
    {
     "data": {
      "image/png": "[encoded data removed]",
      "text/plain": [
       "<Figure size 432x288 with 1 Axes>"
      ]
     },
     "metadata": {
      "needs_background": "light"
     },
     "output_type": "display_data"
    }
   ],
   "source": [
    "plt.stem(gx,use_line_collection=True)"
   ]
  },
  {
   "cell_type": "code",
   "execution_count": 11,
   "metadata": {},
   "outputs": [
    {
     "data": {
      "text/plain": [
       "46"
      ]
     },
     "execution_count": 11,
     "metadata": {},
     "output_type": "execute_result"
    }
   ],
   "source": [
    "len(gx.unique())"
   ]
  },
  {
   "cell_type": "code",
   "execution_count": 12,
   "metadata": {},
   "outputs": [],
   "source": [
    "import scipy.fftpack as fft"
   ]
  },
  {
   "cell_type": "code",
   "execution_count": 13,
   "metadata": {},
   "outputs": [],
   "source": [
    "f = fft.rfft(np.array(gx))"
   ]
  },
  {
   "cell_type": "code",
   "execution_count": 14,
   "metadata": {},
   "outputs": [
    {
     "data": {
      "text/plain": [
       "array([ 3.10310000e+01, -9.39925119e-01, -1.03147424e+01, -7.88420502e-01,\n",
       "       -1.13077764e+00,  2.86736434e+00, -1.44209032e-02,  3.90954376e+00,\n",
       "       -1.39890424e-01, -1.60063859e-01,  9.77100139e-01,  6.53858332e-01,\n",
       "        6.36379352e-01, -1.42901987e+00, -2.55323592e-01,  9.52456221e-01,\n",
       "       -3.92107997e-01,  8.57643077e-01,  2.11756960e-01,  8.07821579e-01,\n",
       "       -2.03158044e-01, -3.64589505e-01, -7.66507338e-01, -8.46358907e-01,\n",
       "        7.20443965e-01, -7.39743652e-01,  1.00937973e+00,  4.03939314e-01,\n",
       "        6.61828990e-02, -3.00936141e-01, -2.98957051e-01,  2.14849226e-01,\n",
       "        5.02317626e-01,  1.24606154e+00,  3.71260877e-01,  5.38415567e-01,\n",
       "       -3.51540009e-01,  8.68808337e-01, -4.73635851e-01,  3.09178421e-01,\n",
       "       -2.41219421e-01,  2.84066543e-01, -3.13312232e-01,  4.97867735e-01,\n",
       "       -4.50987374e-01,  1.86834308e-01, -1.82662734e-02,  7.56349251e-01,\n",
       "        3.18223703e-01,  1.97000000e-01])"
      ]
     },
     "execution_count": 14,
     "metadata": {},
     "output_type": "execute_result"
    }
   ],
   "source": [
    "f"
   ]
  },
  {
   "cell_type": "code",
   "execution_count": 15,
   "metadata": {},
   "outputs": [
    {
     "data": {
      "text/plain": [
       "[<matplotlib.lines.Line2D at 0x7fca5c6fe9b0>]"
      ]
     },
     "execution_count": 15,
     "metadata": {},
     "output_type": "execute_result"
    },
    {
     "data": {
      "image/png": "[encoded data removed]",
      "text/plain": [
       "<Figure size 432x288 with 2 Axes>"
      ]
     },
     "metadata": {
      "needs_background": "light"
     },
     "output_type": "display_data"
    }
   ],
   "source": [
    "fig, axs = plt.subplots(2)\n",
    "fig.suptitle('Vertically stacked subplots')\n",
    "axs[0].plot(gx)\n",
    "axs[1].plot(f)\n"
   ]
  },
  {
   "cell_type": "code",
   "execution_count": 16,
   "metadata": {},
   "outputs": [
    {
     "data": {
      "text/plain": [
       "<StemContainer object of 3 artists>"
      ]
     },
     "execution_count": 16,
     "metadata": {},
     "output_type": "execute_result"
    },
    {
     "data": {
      "image/png": "[encoded data removed]",
      "text/plain": [
       "<Figure size 432x288 with 2 Axes>"
      ]
     },
     "metadata": {
      "needs_background": "light"
     },
     "output_type": "display_data"
    }
   ],
   "source": [
    "\n",
    "fig, axs = plt.subplots(2)\n",
    "fig.suptitle('Vertically stacked subplots')\n",
    "axs[0].stem(gx,use_line_collection=True)\n",
    "axs[1].stem(f,use_line_collection=True)\n"
   ]
  },
  {
   "cell_type": "code",
   "execution_count": 17,
   "metadata": {},
   "outputs": [
    {
     "data": {
      "text/plain": [
       "(array([ 1.,  0., 46.,  2.,  0.,  0.,  0.,  0.,  0.,  1.]),\n",
       " array([-10.31474236,  -6.18016812,  -2.04559389,   2.08898035,\n",
       "          6.22355458,  10.35812882,  14.49270306,  18.62727729,\n",
       "         22.76185153,  26.89642576,  31.031     ]),\n",
       " <a list of 10 Patch objects>)"
      ]
     },
     "execution_count": 17,
     "metadata": {},
     "output_type": "execute_result"
    },
    {
     "data": {
      "image/png": "[encoded data removed]",
      "text/plain": [
       "<Figure size 432x288 with 1 Axes>"
      ]
     },
     "metadata": {
      "needs_background": "light"
     },
     "output_type": "display_data"
    }
   ],
   "source": [
    "plt.hist(f)"
   ]
  },
  {
   "cell_type": "code",
   "execution_count": 18,
   "metadata": {},
   "outputs": [],
   "source": [
    "co = f[:6]"
   ]
  },
  {
   "cell_type": "code",
   "execution_count": 19,
   "metadata": {},
   "outputs": [
    {
     "data": {
      "text/plain": [
       "array([ 31.031     ,  -0.93992512, -10.31474236,  -0.7884205 ,\n",
       "        -1.13077764,   2.86736434])"
      ]
     },
     "execution_count": 19,
     "metadata": {},
     "output_type": "execute_result"
    }
   ],
   "source": [
    "co"
   ]
  },
  {
   "cell_type": "code",
   "execution_count": 20,
   "metadata": {},
   "outputs": [
    {
     "data": {
      "text/plain": [
       "<StemContainer object of 3 artists>"
      ]
     },
     "execution_count": 20,
     "metadata": {},
     "output_type": "execute_result"
    },
    {
     "data": {
      "image/png": "[encoded data removed]",
      "text/plain": [
       "<Figure size 432x288 with 1 Axes>"
      ]
     },
     "metadata": {
      "needs_background": "light"
     },
     "output_type": "display_data"
    }
   ],
   "source": [
    "plt.stem(co,use_line_collection=True)"
   ]
  },
  {
   "cell_type": "code",
   "execution_count": 21,
   "metadata": {},
   "outputs": [
    {
     "data": {
      "text/plain": [
       "[<matplotlib.lines.Line2D at 0x7fca5c509668>]"
      ]
     },
     "execution_count": 21,
     "metadata": {},
     "output_type": "execute_result"
    },
    {
     "data": {
      "image/png": "[encoded data removed]",
      "text/plain": [
       "<Figure size 432x288 with 1 Axes>"
      ]
     },
     "metadata": {
      "needs_background": "light"
     },
     "output_type": "display_data"
    }
   ],
   "source": [
    "plt.plot(co)"
   ]
  },
  {
   "cell_type": "code",
   "execution_count": 22,
   "metadata": {},
   "outputs": [],
   "source": [
    "# using fftshift\n"
   ]
  },
  {
   "cell_type": "code",
   "execution_count": 23,
   "metadata": {},
   "outputs": [
    {
     "data": {
      "text/plain": [
       "0     1.016\n",
       "1     0.694\n",
       "2     0.840\n",
       "3     0.855\n",
       "4     0.521\n",
       "5     0.743\n",
       "6     0.943\n",
       "7     0.697\n",
       "8     0.752\n",
       "9     0.801\n",
       "10    1.065\n",
       "11    1.269\n",
       "12    1.131\n",
       "13    0.943\n",
       "14    1.270\n",
       "15    1.277\n",
       "16    1.066\n",
       "17    1.009\n",
       "18    1.022\n",
       "19    0.828\n",
       "20    0.670\n",
       "21    0.694\n",
       "22    0.527\n",
       "23    0.670\n",
       "24    0.771\n",
       "25    0.818\n",
       "26    0.676\n",
       "27    0.547\n",
       "28    0.372\n",
       "29    0.410\n",
       "30    0.263\n",
       "31    0.331\n",
       "32    0.467\n",
       "33    0.420\n",
       "34    0.351\n",
       "35    0.327\n",
       "36    0.307\n",
       "37    0.488\n",
       "38    0.433\n",
       "39    0.387\n",
       "40    0.240\n",
       "41    0.097\n",
       "42   -0.158\n",
       "43   -0.154\n",
       "44    0.092\n",
       "45    0.234\n",
       "46    0.263\n",
       "47    0.391\n",
       "48    0.714\n",
       "49    0.641\n",
       "Name: gx, dtype: float64"
      ]
     },
     "execution_count": 23,
     "metadata": {},
     "output_type": "execute_result"
    }
   ],
   "source": [
    "gx"
   ]
  },
  {
   "cell_type": "code",
   "execution_count": 24,
   "metadata": {},
   "outputs": [],
   "source": [
    "sh = fft.fftshift(fft.rfft(np.array(gx)))"
   ]
  },
  {
   "cell_type": "code",
   "execution_count": 25,
   "metadata": {},
   "outputs": [
    {
     "data": {
      "text/plain": [
       "array([-7.39743652e-01,  1.00937973e+00,  4.03939314e-01,  6.61828990e-02,\n",
       "       -3.00936141e-01, -2.98957051e-01,  2.14849226e-01,  5.02317626e-01,\n",
       "        1.24606154e+00,  3.71260877e-01,  5.38415567e-01, -3.51540009e-01,\n",
       "        8.68808337e-01, -4.73635851e-01,  3.09178421e-01, -2.41219421e-01,\n",
       "        2.84066543e-01, -3.13312232e-01,  4.97867735e-01, -4.50987374e-01,\n",
       "        1.86834308e-01, -1.82662734e-02,  7.56349251e-01,  3.18223703e-01,\n",
       "        1.97000000e-01,  3.10310000e+01, -9.39925119e-01, -1.03147424e+01,\n",
       "       -7.88420502e-01, -1.13077764e+00,  2.86736434e+00, -1.44209032e-02,\n",
       "        3.90954376e+00, -1.39890424e-01, -1.60063859e-01,  9.77100139e-01,\n",
       "        6.53858332e-01,  6.36379352e-01, -1.42901987e+00, -2.55323592e-01,\n",
       "        9.52456221e-01, -3.92107997e-01,  8.57643077e-01,  2.11756960e-01,\n",
       "        8.07821579e-01, -2.03158044e-01, -3.64589505e-01, -7.66507338e-01,\n",
       "       -8.46358907e-01,  7.20443965e-01])"
      ]
     },
     "execution_count": 25,
     "metadata": {},
     "output_type": "execute_result"
    }
   ],
   "source": [
    "sh"
   ]
  },
  {
   "cell_type": "code",
   "execution_count": 26,
   "metadata": {},
   "outputs": [
    {
     "data": {
      "text/plain": [
       "50"
      ]
     },
     "execution_count": 26,
     "metadata": {},
     "output_type": "execute_result"
    }
   ],
   "source": [
    "len(sh)"
   ]
  },
  {
   "cell_type": "code",
   "execution_count": 27,
   "metadata": {},
   "outputs": [
    {
     "data": {
      "text/plain": [
       "<StemContainer object of 3 artists>"
      ]
     },
     "execution_count": 27,
     "metadata": {},
     "output_type": "execute_result"
    },
    {
     "data": {
      "image/png": "[encoded data removed]",
      "text/plain": [
       "<Figure size 1440x1440 with 1 Axes>"
      ]
     },
     "metadata": {
      "needs_background": "light"
     },
     "output_type": "display_data"
    }
   ],
   "source": [
    "plt.figure(figsize=(20,20))\n",
    "plt.stem(sh,use_line_collection=True)"
   ]
  },
  {
   "cell_type": "code",
   "execution_count": 28,
   "metadata": {},
   "outputs": [
    {
     "data": {
      "text/plain": [
       "<StemContainer object of 3 artists>"
      ]
     },
     "execution_count": 28,
     "metadata": {},
     "output_type": "execute_result"
    },
    {
     "data": {
      "image/png": "[encoded data removed]",
      "text/plain": [
       "<Figure size 1440x2160 with 2 Axes>"
      ]
     },
     "metadata": {
      "needs_background": "light"
     },
     "output_type": "display_data"
    }
   ],
   "source": [
    "fig, axs = plt.subplots(2,figsize=(20,30))\n",
    "fig.suptitle('Vertically stacked subplots')\n",
    "axs[0].stem(gx,use_line_collection=True)\n",
    "axs[1].stem(sh,use_line_collection=True)"
   ]
  },
  {
   "cell_type": "code",
   "execution_count": 29,
   "metadata": {},
   "outputs": [],
   "source": [
    "# using zero padding to evaluate"
   ]
  },
  {
   "cell_type": "code",
   "execution_count": 30,
   "metadata": {},
   "outputs": [
    {
     "data": {
      "text/plain": [
       "0     1.016\n",
       "1     0.694\n",
       "2     0.840\n",
       "3     0.855\n",
       "4     0.521\n",
       "5     0.743\n",
       "6     0.943\n",
       "7     0.697\n",
       "8     0.752\n",
       "9     0.801\n",
       "10    1.065\n",
       "11    1.269\n",
       "12    1.131\n",
       "13    0.943\n",
       "14    1.270\n",
       "15    1.277\n",
       "16    1.066\n",
       "17    1.009\n",
       "18    1.022\n",
       "19    0.828\n",
       "20    0.670\n",
       "21    0.694\n",
       "22    0.527\n",
       "23    0.670\n",
       "24    0.771\n",
       "25    0.818\n",
       "26    0.676\n",
       "27    0.547\n",
       "28    0.372\n",
       "29    0.410\n",
       "30    0.263\n",
       "31    0.331\n",
       "32    0.467\n",
       "33    0.420\n",
       "34    0.351\n",
       "35    0.327\n",
       "36    0.307\n",
       "37    0.488\n",
       "38    0.433\n",
       "39    0.387\n",
       "40    0.240\n",
       "41    0.097\n",
       "42   -0.158\n",
       "43   -0.154\n",
       "44    0.092\n",
       "45    0.234\n",
       "46    0.263\n",
       "47    0.391\n",
       "48    0.714\n",
       "49    0.641\n",
       "Name: gx, dtype: float64"
      ]
     },
     "execution_count": 30,
     "metadata": {},
     "output_type": "execute_result"
    }
   ],
   "source": [
    "gx"
   ]
  },
  {
   "cell_type": "code",
   "execution_count": 31,
   "metadata": {},
   "outputs": [],
   "source": [
    "l = [1,2,4,5]"
   ]
  },
  {
   "cell_type": "code",
   "execution_count": 32,
   "metadata": {},
   "outputs": [
    {
     "data": {
      "text/plain": [
       "array([1, 2, 4, 5, 0, 0, 0])"
      ]
     },
     "execution_count": 32,
     "metadata": {},
     "output_type": "execute_result"
    }
   ],
   "source": [
    "np.pad(np.array(l),(0,3))"
   ]
  },
  {
   "cell_type": "code",
   "execution_count": 33,
   "metadata": {},
   "outputs": [],
   "source": [
    "gxpad = np.pad(np.array(gx),(0,46))"
   ]
  },
  {
   "cell_type": "code",
   "execution_count": 34,
   "metadata": {},
   "outputs": [
    {
     "data": {
      "text/plain": [
       "array([ 1.016,  0.694,  0.84 ,  0.855,  0.521,  0.743,  0.943,  0.697,\n",
       "        0.752,  0.801,  1.065,  1.269,  1.131,  0.943,  1.27 ,  1.277,\n",
       "        1.066,  1.009,  1.022,  0.828,  0.67 ,  0.694,  0.527,  0.67 ,\n",
       "        0.771,  0.818,  0.676,  0.547,  0.372,  0.41 ,  0.263,  0.331,\n",
       "        0.467,  0.42 ,  0.351,  0.327,  0.307,  0.488,  0.433,  0.387,\n",
       "        0.24 ,  0.097, -0.158, -0.154,  0.092,  0.234,  0.263,  0.391,\n",
       "        0.714,  0.641,  0.   ,  0.   ,  0.   ,  0.   ,  0.   ,  0.   ,\n",
       "        0.   ,  0.   ,  0.   ,  0.   ,  0.   ,  0.   ,  0.   ,  0.   ,\n",
       "        0.   ,  0.   ,  0.   ,  0.   ,  0.   ,  0.   ,  0.   ,  0.   ,\n",
       "        0.   ,  0.   ,  0.   ,  0.   ,  0.   ,  0.   ,  0.   ,  0.   ,\n",
       "        0.   ,  0.   ,  0.   ,  0.   ,  0.   ,  0.   ,  0.   ,  0.   ,\n",
       "        0.   ,  0.   ,  0.   ,  0.   ,  0.   ,  0.   ,  0.   ,  0.   ])"
      ]
     },
     "execution_count": 34,
     "metadata": {},
     "output_type": "execute_result"
    }
   ],
   "source": [
    "gxpad"
   ]
  },
  {
   "cell_type": "code",
   "execution_count": 35,
   "metadata": {},
   "outputs": [],
   "source": [
    "fpad0 = fft.fft(gxpad)"
   ]
  },
  {
   "cell_type": "code",
   "execution_count": 36,
   "metadata": {},
   "outputs": [
    {
     "data": {
      "text/plain": [
       "array([ 3.10310000e+01 -0.j        ,  8.96642506e+00-19.84121144j,\n",
       "       -1.04796110e+00 -9.84532427j, -3.70018829e+00 -4.66528553j,\n",
       "       -3.67352234e-01 -1.33419722j, -7.64861018e-01 +0.14079319j,\n",
       "        3.06821992e+00 -1.36521385j, -7.15324210e-02 -0.37745304j,\n",
       "        4.46603792e+00 -2.72507727j, -2.43119341e+00 -2.75793616j,\n",
       "        2.05680063e+00 -0.10230083j, -7.06104661e-01 -1.33188664j,\n",
       "        2.67475501e+00 -0.72420371j, -1.19578348e+00 -2.48714238j,\n",
       "        4.88282593e-01 +0.61343601j,  8.21461334e-01 -0.49908117j,\n",
       "        1.09250000e+00 -1.0089196j ,  2.67210454e-01 -0.06702272j,\n",
       "        1.61575404e+00 -1.09749213j,  4.09272631e-01 -0.41628388j,\n",
       "        1.47638285e+00 -1.81942977j, -4.95643504e-01 -0.98506267j,\n",
       "       -2.68146402e-02 -1.42344861j, -9.52600209e-01 +0.63288569j,\n",
       "        6.24000000e-01 -0.567j     , -6.51486166e-01 +1.1241524j ,\n",
       "        1.62472628e+00 +0.12553118j,  4.82979513e-01 +0.24293855j,\n",
       "        1.18777446e+00 -0.77264001j, -2.61441702e-01 +0.12839474j,\n",
       "        6.44612271e-01 +0.13878327j,  4.35608623e-01 +0.83521651j,\n",
       "        1.32050000e+00 +0.3680608j ,  1.54917268e+00 +0.34830643j,\n",
       "        1.21404198e+00 -0.83800358j,  8.20111993e-01 +0.14751979j,\n",
       "        1.19124499e+00 -0.53020371j,  9.64731203e-01 -0.3478109j ,\n",
       "        4.80974381e-01 -0.65235732j,  8.32659384e-01 +0.05933441j,\n",
       "        5.16962079e-01 -0.59292273j,  7.36200202e-01 +0.14718367j,\n",
       "        6.71413777e-01 -0.51693846j,  5.14303178e-01 -0.17706627j,\n",
       "        2.15194928e-01 -0.13498699j,  5.64752286e-01 +0.30059867j,\n",
       "        7.17949867e-01 +0.30227241j,  1.11394631e+00 -0.2435956j ,\n",
       "        1.97000000e-01 -0.j        ,  1.11394631e+00 +0.2435956j ,\n",
       "        7.17949867e-01 -0.30227241j,  5.64752286e-01 -0.30059867j,\n",
       "        2.15194928e-01 +0.13498699j,  5.14303178e-01 +0.17706627j,\n",
       "        6.71413777e-01 +0.51693846j,  7.36200202e-01 -0.14718367j,\n",
       "        5.16962079e-01 +0.59292273j,  8.32659384e-01 -0.05933441j,\n",
       "        4.80974381e-01 +0.65235732j,  9.64731203e-01 +0.3478109j ,\n",
       "        1.19124499e+00 +0.53020371j,  8.20111993e-01 -0.14751979j,\n",
       "        1.21404198e+00 +0.83800358j,  1.54917268e+00 -0.34830643j,\n",
       "        1.32050000e+00 -0.3680608j ,  4.35608623e-01 -0.83521651j,\n",
       "        6.44612271e-01 -0.13878327j, -2.61441702e-01 -0.12839474j,\n",
       "        1.18777446e+00 +0.77264001j,  4.82979513e-01 -0.24293855j,\n",
       "        1.62472628e+00 -0.12553118j, -6.51486166e-01 -1.1241524j ,\n",
       "        6.24000000e-01 +0.567j     , -9.52600209e-01 -0.63288569j,\n",
       "       -2.68146402e-02 +1.42344861j, -4.95643504e-01 +0.98506267j,\n",
       "        1.47638285e+00 +1.81942977j,  4.09272631e-01 +0.41628388j,\n",
       "        1.61575404e+00 +1.09749213j,  2.67210454e-01 +0.06702272j,\n",
       "        1.09250000e+00 +1.0089196j ,  8.21461334e-01 +0.49908117j,\n",
       "        4.88282593e-01 -0.61343601j, -1.19578348e+00 +2.48714238j,\n",
       "        2.67475501e+00 +0.72420371j, -7.06104661e-01 +1.33188664j,\n",
       "        2.05680063e+00 +0.10230083j, -2.43119341e+00 +2.75793616j,\n",
       "        4.46603792e+00 +2.72507727j, -7.15324210e-02 +0.37745304j,\n",
       "        3.06821992e+00 +1.36521385j, -7.64861018e-01 -0.14079319j,\n",
       "       -3.67352234e-01 +1.33419722j, -3.70018829e+00 +4.66528553j,\n",
       "       -1.04796110e+00 +9.84532427j,  8.96642506e+00+19.84121144j])"
      ]
     },
     "execution_count": 36,
     "metadata": {},
     "output_type": "execute_result"
    }
   ],
   "source": [
    "fpad0"
   ]
  },
  {
   "cell_type": "code",
   "execution_count": 37,
   "metadata": {},
   "outputs": [
    {
     "data": {
      "text/plain": [
       "96"
      ]
     },
     "execution_count": 37,
     "metadata": {},
     "output_type": "execute_result"
    }
   ],
   "source": [
    "len(fpad0)"
   ]
  },
  {
   "cell_type": "code",
   "execution_count": 38,
   "metadata": {},
   "outputs": [
    {
     "name": "stderr",
     "output_type": "stream",
     "text": [
      "/home/po/anaconda3/envs/Py_ml_ud/lib/python3.6/site-packages/numpy/core/_asarray.py:85: ComplexWarning: Casting complex values to real discards the imaginary part\n",
      "  return array(a, dtype, copy=False, order=order)\n",
      "/home/po/anaconda3/envs/Py_ml_ud/lib/python3.6/site-packages/numpy/core/_asarray.py:85: ComplexWarning: Casting complex values to real discards the imaginary part\n",
      "  return array(a, dtype, copy=False, order=order)\n"
     ]
    },
    {
     "data": {
      "text/plain": [
       "<StemContainer object of 3 artists>"
      ]
     },
     "execution_count": 38,
     "metadata": {},
     "output_type": "execute_result"
    },
    {
     "data": {
      "image/png": "[encoded data removed]",
      "text/plain": [
       "<Figure size 1440x1440 with 1 Axes>"
      ]
     },
     "metadata": {
      "needs_background": "light"
     },
     "output_type": "display_data"
    }
   ],
   "source": [
    "plt.figure(figsize=(20,20))\n",
    "plt.stem(fpad0,use_line_collection=True)"
   ]
  },
  {
   "cell_type": "code",
   "execution_count": 39,
   "metadata": {},
   "outputs": [],
   "source": [
    "# calculating using without padding"
   ]
  },
  {
   "cell_type": "code",
   "execution_count": 40,
   "metadata": {},
   "outputs": [],
   "source": [
    "fpad = fft.fft(np.array(gx))"
   ]
  },
  {
   "cell_type": "code",
   "execution_count": 41,
   "metadata": {},
   "outputs": [
    {
     "data": {
      "text/plain": [
       "array([31.031      -0.j        , -0.93992512-10.31474236j,\n",
       "       -0.7884205  -1.13077764j,  2.86736434 -0.0144209j ,\n",
       "        3.90954376 -0.13989042j, -0.16006386 +0.97710014j,\n",
       "        0.65385833 +0.63637935j, -1.42901987 -0.25532359j,\n",
       "        0.95245622 -0.392108j  ,  0.85764308 +0.21175696j,\n",
       "        0.80782158 -0.20315804j, -0.3645895  -0.76650734j,\n",
       "       -0.84635891 +0.72044396j, -0.73974365 +1.00937973j,\n",
       "        0.40393931 +0.0661829j , -0.30093614 -0.29895705j,\n",
       "        0.21484923 +0.50231763j,  1.24606154 +0.37126088j,\n",
       "        0.53841557 -0.35154001j,  0.86880834 -0.47363585j,\n",
       "        0.30917842 -0.24121942j,  0.28406654 -0.31331223j,\n",
       "        0.49786773 -0.45098737j,  0.18683431 -0.01826627j,\n",
       "        0.75634925 +0.3182237j ,  0.197      -0.j        ,\n",
       "        0.75634925 -0.3182237j ,  0.18683431 +0.01826627j,\n",
       "        0.49786773 +0.45098737j,  0.28406654 +0.31331223j,\n",
       "        0.30917842 +0.24121942j,  0.86880834 +0.47363585j,\n",
       "        0.53841557 +0.35154001j,  1.24606154 -0.37126088j,\n",
       "        0.21484923 -0.50231763j, -0.30093614 +0.29895705j,\n",
       "        0.40393931 -0.0661829j , -0.73974365 -1.00937973j,\n",
       "       -0.84635891 -0.72044396j, -0.3645895  +0.76650734j,\n",
       "        0.80782158 +0.20315804j,  0.85764308 -0.21175696j,\n",
       "        0.95245622 +0.392108j  , -1.42901987 +0.25532359j,\n",
       "        0.65385833 -0.63637935j, -0.16006386 -0.97710014j,\n",
       "        3.90954376 +0.13989042j,  2.86736434 +0.0144209j ,\n",
       "       -0.7884205  +1.13077764j, -0.93992512+10.31474236j])"
      ]
     },
     "execution_count": 41,
     "metadata": {},
     "output_type": "execute_result"
    }
   ],
   "source": [
    "fpad"
   ]
  },
  {
   "cell_type": "code",
   "execution_count": 42,
   "metadata": {},
   "outputs": [
    {
     "name": "stderr",
     "output_type": "stream",
     "text": [
      "/home/po/anaconda3/envs/Py_ml_ud/lib/python3.6/site-packages/numpy/core/_asarray.py:85: ComplexWarning: Casting complex values to real discards the imaginary part\n",
      "  return array(a, dtype, copy=False, order=order)\n",
      "/home/po/anaconda3/envs/Py_ml_ud/lib/python3.6/site-packages/numpy/core/_asarray.py:85: ComplexWarning: Casting complex values to real discards the imaginary part\n",
      "  return array(a, dtype, copy=False, order=order)\n"
     ]
    },
    {
     "data": {
      "text/plain": [
       "<StemContainer object of 3 artists>"
      ]
     },
     "execution_count": 42,
     "metadata": {},
     "output_type": "execute_result"
    },
    {
     "data": {
      "image/png": "[encoded data removed]",
      "text/plain": [
       "<Figure size 1440x1440 with 1 Axes>"
      ]
     },
     "metadata": {
      "needs_background": "light"
     },
     "output_type": "display_data"
    }
   ],
   "source": [
    "plt.figure(figsize=(20,20))\n",
    "plt.stem(fpad,use_line_collection=True)"
   ]
  },
  {
   "cell_type": "code",
   "execution_count": 43,
   "metadata": {},
   "outputs": [],
   "source": [
    "# using both side padding"
   ]
  },
  {
   "cell_type": "code",
   "execution_count": 44,
   "metadata": {},
   "outputs": [],
   "source": [
    "gxpad = np.pad(np.array(gx),(23,))"
   ]
  },
  {
   "cell_type": "code",
   "execution_count": 45,
   "metadata": {},
   "outputs": [
    {
     "data": {
      "text/plain": [
       "array([ 0.   ,  0.   ,  0.   ,  0.   ,  0.   ,  0.   ,  0.   ,  0.   ,\n",
       "        0.   ,  0.   ,  0.   ,  0.   ,  0.   ,  0.   ,  0.   ,  0.   ,\n",
       "        0.   ,  0.   ,  0.   ,  0.   ,  0.   ,  0.   ,  0.   ,  1.016,\n",
       "        0.694,  0.84 ,  0.855,  0.521,  0.743,  0.943,  0.697,  0.752,\n",
       "        0.801,  1.065,  1.269,  1.131,  0.943,  1.27 ,  1.277,  1.066,\n",
       "        1.009,  1.022,  0.828,  0.67 ,  0.694,  0.527,  0.67 ,  0.771,\n",
       "        0.818,  0.676,  0.547,  0.372,  0.41 ,  0.263,  0.331,  0.467,\n",
       "        0.42 ,  0.351,  0.327,  0.307,  0.488,  0.433,  0.387,  0.24 ,\n",
       "        0.097, -0.158, -0.154,  0.092,  0.234,  0.263,  0.391,  0.714,\n",
       "        0.641,  0.   ,  0.   ,  0.   ,  0.   ,  0.   ,  0.   ,  0.   ,\n",
       "        0.   ,  0.   ,  0.   ,  0.   ,  0.   ,  0.   ,  0.   ,  0.   ,\n",
       "        0.   ,  0.   ,  0.   ,  0.   ,  0.   ,  0.   ,  0.   ,  0.   ])"
      ]
     },
     "execution_count": 45,
     "metadata": {},
     "output_type": "execute_result"
    }
   ],
   "source": [
    "gxpad"
   ]
  },
  {
   "cell_type": "code",
   "execution_count": 46,
   "metadata": {},
   "outputs": [
    {
     "data": {
      "text/plain": [
       "96"
      ]
     },
     "execution_count": 46,
     "metadata": {},
     "output_type": "execute_result"
    }
   ],
   "source": [
    "len(gxpad)"
   ]
  },
  {
   "cell_type": "code",
   "execution_count": 47,
   "metadata": {},
   "outputs": [],
   "source": [
    "fpad2 = fft.fft(gxpad)"
   ]
  },
  {
   "cell_type": "code",
   "execution_count": 48,
   "metadata": {},
   "outputs": [
    {
     "data": {
      "text/plain": [
       "array([ 3.10310000e+01 -0.j        , -1.92122976e+01-10.24490458j,\n",
       "       -2.46077046e-01 +9.89788253j,  5.29751430e+00 -2.71893816j,\n",
       "       -9.51935883e-03 -1.38381331j, -1.12535205e-01 +0.76952643j,\n",
       "       -3.35711031e+00 +0.08713621j,  3.70165323e-01 +0.10278773j,\n",
       "        5.23024093e+00 -0.12696718j, -3.64383879e+00 +0.48923621j,\n",
       "       -1.69404645e+00 -1.17094019j,  1.46693255e+00 +0.34729629j,\n",
       "        2.40342677e+00 +1.37924805j, -2.53892454e+00 -1.08149781j,\n",
       "        1.89423900e-01 -0.76081681j, -4.05745496e-01 +0.87135029j,\n",
       "        1.42000000e+00 +0.44167296j,  2.10010382e-01 -0.17829501j,\n",
       "       -1.63227281e+00 -1.07277003j, -2.53742519e-01 +0.52574812j,\n",
       "        2.13955021e+00 +0.95517325j, -6.78296047e-01 -0.86943972j,\n",
       "       -1.40777080e+00 +0.21238256j,  9.09167915e-01 -0.69383366j,\n",
       "        5.67000000e-01 +0.624j     , -7.23614369e-01 +1.07913627j,\n",
       "        3.36526578e-01 -1.59444141j, -4.26304238e-01 -0.33249518j,\n",
       "        4.38894288e-01 +1.34727597j, -2.88838162e-01 +0.03754317j,\n",
       "        3.74901457e-01 -0.54243403j, -2.12786831e-02 -0.94174769j,\n",
       "       -9.79000000e-01 +0.95955615j,  1.09458133e+00 +1.15028044j,\n",
       "        7.42289925e-02 -1.47330852j, -5.19326285e-01 -0.65164866j,\n",
       "       -4.67426766e-01 +1.21724805j,  8.97589560e-01 +0.49599566j,\n",
       "       -1.55473429e-02 -0.81034851j, -4.13266010e-01 -0.72529541j,\n",
       "       -1.51240930e-01 +0.77196718j,  1.93608003e-01 +0.72537556j,\n",
       "        4.22481663e-01 -0.73452779j, -3.32986723e-01 -0.43009309j,\n",
       "       -1.72925135e-01 +0.18608396j, -1.84645043e-01 +0.61254462j,\n",
       "        7.51262174e-01 +0.20597517j, -3.15929621e-01 -1.09562935j,\n",
       "       -1.97000000e-01 -0.j        , -3.15929621e-01 +1.09562935j,\n",
       "        7.51262174e-01 -0.20597517j, -1.84645043e-01 -0.61254462j,\n",
       "       -1.72925135e-01 -0.18608396j, -3.32986723e-01 +0.43009309j,\n",
       "        4.22481663e-01 +0.73452779j,  1.93608003e-01 -0.72537556j,\n",
       "       -1.51240930e-01 -0.77196718j, -4.13266010e-01 +0.72529541j,\n",
       "       -1.55473429e-02 +0.81034851j,  8.97589560e-01 -0.49599566j,\n",
       "       -4.67426766e-01 -1.21724805j, -5.19326285e-01 +0.65164866j,\n",
       "        7.42289925e-02 +1.47330852j,  1.09458133e+00 -1.15028044j,\n",
       "       -9.79000000e-01 -0.95955615j, -2.12786831e-02 +0.94174769j,\n",
       "        3.74901457e-01 +0.54243403j, -2.88838162e-01 -0.03754317j,\n",
       "        4.38894288e-01 -1.34727597j, -4.26304238e-01 +0.33249518j,\n",
       "        3.36526578e-01 +1.59444141j, -7.23614369e-01 -1.07913627j,\n",
       "        5.67000000e-01 -0.624j     ,  9.09167915e-01 +0.69383366j,\n",
       "       -1.40777080e+00 -0.21238256j, -6.78296047e-01 +0.86943972j,\n",
       "        2.13955021e+00 -0.95517325j, -2.53742519e-01 -0.52574812j,\n",
       "       -1.63227281e+00 +1.07277003j,  2.10010382e-01 +0.17829501j,\n",
       "        1.42000000e+00 -0.44167296j, -4.05745496e-01 -0.87135029j,\n",
       "        1.89423900e-01 +0.76081681j, -2.53892454e+00 +1.08149781j,\n",
       "        2.40342677e+00 -1.37924805j,  1.46693255e+00 -0.34729629j,\n",
       "       -1.69404645e+00 +1.17094019j, -3.64383879e+00 -0.48923621j,\n",
       "        5.23024093e+00 +0.12696718j,  3.70165323e-01 -0.10278773j,\n",
       "       -3.35711031e+00 -0.08713621j, -1.12535205e-01 -0.76952643j,\n",
       "       -9.51935883e-03 +1.38381331j,  5.29751430e+00 +2.71893816j,\n",
       "       -2.46077046e-01 -9.89788253j, -1.92122976e+01+10.24490458j])"
      ]
     },
     "execution_count": 48,
     "metadata": {},
     "output_type": "execute_result"
    }
   ],
   "source": [
    "fpad2"
   ]
  },
  {
   "cell_type": "code",
   "execution_count": 49,
   "metadata": {},
   "outputs": [
    {
     "name": "stderr",
     "output_type": "stream",
     "text": [
      "/home/po/anaconda3/envs/Py_ml_ud/lib/python3.6/site-packages/numpy/core/_asarray.py:85: ComplexWarning: Casting complex values to real discards the imaginary part\n",
      "  return array(a, dtype, copy=False, order=order)\n",
      "/home/po/anaconda3/envs/Py_ml_ud/lib/python3.6/site-packages/numpy/core/_asarray.py:85: ComplexWarning: Casting complex values to real discards the imaginary part\n",
      "  return array(a, dtype, copy=False, order=order)\n"
     ]
    },
    {
     "data": {
      "text/plain": [
       "<StemContainer object of 3 artists>"
      ]
     },
     "execution_count": 49,
     "metadata": {},
     "output_type": "execute_result"
    },
    {
     "data": {
      "image/png": "[encoded data removed]",
      "text/plain": [
       "<Figure size 1440x1440 with 1 Axes>"
      ]
     },
     "metadata": {
      "needs_background": "light"
     },
     "output_type": "display_data"
    }
   ],
   "source": [
    "plt.figure(figsize=(20,20))\n",
    "plt.stem(fpad2,use_line_collection=True)"
   ]
  },
  {
   "cell_type": "code",
   "execution_count": 50,
   "metadata": {},
   "outputs": [
    {
     "name": "stderr",
     "output_type": "stream",
     "text": [
      "/home/po/anaconda3/envs/Py_ml_ud/lib/python3.6/site-packages/numpy/core/_asarray.py:85: ComplexWarning: Casting complex values to real discards the imaginary part\n",
      "  return array(a, dtype, copy=False, order=order)\n",
      "/home/po/anaconda3/envs/Py_ml_ud/lib/python3.6/site-packages/numpy/core/_asarray.py:85: ComplexWarning: Casting complex values to real discards the imaginary part\n",
      "  return array(a, dtype, copy=False, order=order)\n",
      "/home/po/anaconda3/envs/Py_ml_ud/lib/python3.6/site-packages/numpy/core/_asarray.py:85: ComplexWarning: Casting complex values to real discards the imaginary part\n",
      "  return array(a, dtype, copy=False, order=order)\n",
      "/home/po/anaconda3/envs/Py_ml_ud/lib/python3.6/site-packages/numpy/core/_asarray.py:85: ComplexWarning: Casting complex values to real discards the imaginary part\n",
      "  return array(a, dtype, copy=False, order=order)\n",
      "/home/po/anaconda3/envs/Py_ml_ud/lib/python3.6/site-packages/numpy/core/_asarray.py:85: ComplexWarning: Casting complex values to real discards the imaginary part\n",
      "  return array(a, dtype, copy=False, order=order)\n",
      "/home/po/anaconda3/envs/Py_ml_ud/lib/python3.6/site-packages/numpy/core/_asarray.py:85: ComplexWarning: Casting complex values to real discards the imaginary part\n",
      "  return array(a, dtype, copy=False, order=order)\n"
     ]
    },
    {
     "data": {
      "text/plain": [
       "<StemContainer object of 3 artists>"
      ]
     },
     "execution_count": 50,
     "metadata": {},
     "output_type": "execute_result"
    },
    {
     "data": {
      "image/png": "[encoded data removed]",
      "text/plain": [
       "<Figure size 1440x1440 with 3 Axes>"
      ]
     },
     "metadata": {
      "needs_background": "light"
     },
     "output_type": "display_data"
    }
   ],
   "source": [
    "\n",
    "fig, axs = plt.subplots(3,figsize=(20,20))\n",
    "fig.suptitle('Vertically stacked subplots')\n",
    "axs[0].stem(fpad,use_line_collection=True)\n",
    "axs[1].stem(fpad0,use_line_collection=True)\n",
    "axs[2].stem(fpad2,use_line_collection=True)\n"
   ]
  },
  {
   "cell_type": "code",
   "execution_count": 51,
   "metadata": {},
   "outputs": [
    {
     "data": {
      "text/plain": [
       "array([ 3.10310000e+01 -0.j        , -1.92122976e+01-10.24490458j,\n",
       "       -2.46077046e-01 +9.89788253j,  5.29751430e+00 -2.71893816j,\n",
       "       -9.51935883e-03 -1.38381331j, -1.12535205e-01 +0.76952643j])"
      ]
     },
     "execution_count": 51,
     "metadata": {},
     "output_type": "execute_result"
    }
   ],
   "source": [
    "fpad2[0:6]"
   ]
  },
  {
   "cell_type": "code",
   "execution_count": 52,
   "metadata": {},
   "outputs": [],
   "source": [
    "coe = [i.real for i in fpad2[0:5]]"
   ]
  },
  {
   "cell_type": "code",
   "execution_count": 53,
   "metadata": {},
   "outputs": [
    {
     "data": {
      "text/plain": [
       "[31.031,\n",
       " -19.212297625662057,\n",
       " -0.24607704572331895,\n",
       " 5.297514298190802,\n",
       " -0.009519358826586027]"
      ]
     },
     "execution_count": 53,
     "metadata": {},
     "output_type": "execute_result"
    }
   ],
   "source": [
    "coe"
   ]
  },
  {
   "cell_type": "code",
   "execution_count": 54,
   "metadata": {},
   "outputs": [
    {
     "data": {
      "text/plain": [
       "16.860620267978838"
      ]
     },
     "execution_count": 54,
     "metadata": {},
     "output_type": "execute_result"
    }
   ],
   "source": [
    "np.sum(coe)"
   ]
  },
  {
   "cell_type": "code",
   "execution_count": 55,
   "metadata": {},
   "outputs": [
    {
     "data": {
      "text/plain": [
       "36.880342234409646"
      ]
     },
     "execution_count": 55,
     "metadata": {},
     "output_type": "execute_result"
    }
   ],
   "source": [
    "np.sqrt(np.sum(np.power(coe,2)))"
   ]
  },
  {
   "cell_type": "code",
   "execution_count": 56,
   "metadata": {},
   "outputs": [],
   "source": [
    "coe_wout_padding = [i.real for i in fpad[0:5]]"
   ]
  },
  {
   "cell_type": "code",
   "execution_count": 57,
   "metadata": {},
   "outputs": [
    {
     "data": {
      "text/plain": [
       "[31.031,\n",
       " -0.9399251191058773,\n",
       " -0.7884205017887164,\n",
       " 2.867364341141282,\n",
       " 3.909543763562151]"
      ]
     },
     "execution_count": 57,
     "metadata": {},
     "output_type": "execute_result"
    }
   ],
   "source": [
    "coe_wout_padding"
   ]
  },
  {
   "cell_type": "code",
   "execution_count": 58,
   "metadata": {},
   "outputs": [
    {
     "data": {
      "text/plain": [
       "36.079562483808836"
      ]
     },
     "execution_count": 58,
     "metadata": {},
     "output_type": "execute_result"
    }
   ],
   "source": [
    "np.sum(coe_wout_padding)"
   ]
  },
  {
   "cell_type": "code",
   "execution_count": 59,
   "metadata": {},
   "outputs": [
    {
     "data": {
      "text/plain": [
       "31.431422777552136"
      ]
     },
     "execution_count": 59,
     "metadata": {},
     "output_type": "execute_result"
    }
   ],
   "source": [
    "np.sqrt(np.sum(np.power(coe_wout_padding,2)))"
   ]
  },
  {
   "cell_type": "code",
   "execution_count": 61,
   "metadata": {},
   "outputs": [],
   "source": [
    "# sof amplitude encoded as the mangitude of complex number"
   ]
  },
  {
   "cell_type": "code",
   "execution_count": 62,
   "metadata": {},
   "outputs": [
    {
     "data": {
      "text/plain": [
       "array([31.031      -0.j        , -0.93992512-10.31474236j,\n",
       "       -0.7884205  -1.13077764j,  2.86736434 -0.0144209j ,\n",
       "        3.90954376 -0.13989042j, -0.16006386 +0.97710014j,\n",
       "        0.65385833 +0.63637935j, -1.42901987 -0.25532359j,\n",
       "        0.95245622 -0.392108j  ,  0.85764308 +0.21175696j,\n",
       "        0.80782158 -0.20315804j, -0.3645895  -0.76650734j,\n",
       "       -0.84635891 +0.72044396j, -0.73974365 +1.00937973j,\n",
       "        0.40393931 +0.0661829j , -0.30093614 -0.29895705j,\n",
       "        0.21484923 +0.50231763j,  1.24606154 +0.37126088j,\n",
       "        0.53841557 -0.35154001j,  0.86880834 -0.47363585j,\n",
       "        0.30917842 -0.24121942j,  0.28406654 -0.31331223j,\n",
       "        0.49786773 -0.45098737j,  0.18683431 -0.01826627j,\n",
       "        0.75634925 +0.3182237j ,  0.197      -0.j        ,\n",
       "        0.75634925 -0.3182237j ,  0.18683431 +0.01826627j,\n",
       "        0.49786773 +0.45098737j,  0.28406654 +0.31331223j,\n",
       "        0.30917842 +0.24121942j,  0.86880834 +0.47363585j,\n",
       "        0.53841557 +0.35154001j,  1.24606154 -0.37126088j,\n",
       "        0.21484923 -0.50231763j, -0.30093614 +0.29895705j,\n",
       "        0.40393931 -0.0661829j , -0.73974365 -1.00937973j,\n",
       "       -0.84635891 -0.72044396j, -0.3645895  +0.76650734j,\n",
       "        0.80782158 +0.20315804j,  0.85764308 -0.21175696j,\n",
       "        0.95245622 +0.392108j  , -1.42901987 +0.25532359j,\n",
       "        0.65385833 -0.63637935j, -0.16006386 -0.97710014j,\n",
       "        3.90954376 +0.13989042j,  2.86736434 +0.0144209j ,\n",
       "       -0.7884205  +1.13077764j, -0.93992512+10.31474236j])"
      ]
     },
     "execution_count": 62,
     "metadata": {},
     "output_type": "execute_result"
    }
   ],
   "source": [
    "fpad"
   ]
  },
  {
   "cell_type": "code",
   "execution_count": 65,
   "metadata": {},
   "outputs": [],
   "source": [
    "coe = fpad[1:6]"
   ]
  },
  {
   "cell_type": "code",
   "execution_count": 69,
   "metadata": {},
   "outputs": [],
   "source": [
    "n=coe[0]"
   ]
  },
  {
   "cell_type": "code",
   "execution_count": null,
   "metadata": {},
   "outputs": [],
   "source": []
  },
  {
   "cell_type": "code",
   "execution_count": 70,
   "metadata": {},
   "outputs": [
    {
     "data": {
      "text/plain": [
       "-10.314742358853977"
      ]
     },
     "execution_count": 70,
     "metadata": {},
     "output_type": "execute_result"
    }
   ],
   "source": [
    "n.imag"
   ]
  },
  {
   "cell_type": "code",
   "execution_count": 74,
   "metadata": {},
   "outputs": [],
   "source": [
    "def ret_sum(coe):\n",
    "    return np.sum([np.sqrt(np.power(i.real,2)+np.power(i.imag,2)) for i in coe])"
   ]
  },
  {
   "cell_type": "code",
   "execution_count": 75,
   "metadata": {},
   "outputs": [
    {
     "data": {
      "text/plain": [
       "19.505550001662538"
      ]
     },
     "execution_count": 75,
     "metadata": {},
     "output_type": "execute_result"
    }
   ],
   "source": [
    "ret_sum(coe)"
   ]
  },
  {
   "cell_type": "code",
   "execution_count": 76,
   "metadata": {},
   "outputs": [
    {
     "data": {
      "text/plain": [
       "49.54642621123278"
      ]
     },
     "execution_count": 76,
     "metadata": {},
     "output_type": "execute_result"
    }
   ],
   "source": [
    "ret_sum(fpad[0:5])"
   ]
  },
  {
   "cell_type": "code",
   "execution_count": null,
   "metadata": {},
   "outputs": [],
   "source": []
  }
 ],
 "metadata": {
  "kernelspec": {
   "display_name": "Python 3",
   "language": "python",
   "name": "python3"
  },
  "language_info": {
   "codemirror_mode": {
    "name": "ipython",
    "version": 3
   },
   "file_extension": ".py",
   "mimetype": "text/x-python",
   "name": "python",
   "nbconvert_exporter": "python",
   "pygments_lexer": "ipython3",
   "version": "3.6.10"
  }
 },
 "nbformat": 4,
 "nbformat_minor": 4
}
