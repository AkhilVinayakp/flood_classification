{
 "cells": [
  {
   "cell_type": "code",
   "execution_count": 1,
   "metadata": {},
   "outputs": [],
   "source": [
    "import numpy as np\n",
    "import matplotlib.pyplot as plt\n",
    "import pandas as pd\n",
    "from sklearn.model_selection import train_test_split\n",
    "from sklearn.metrics import classification_report, confusion_matrix, accuracy_score"
   ]
  },
  {
   "cell_type": "code",
   "execution_count": 2,
   "metadata": {},
   "outputs": [],
   "source": [
    "from sklearn.naive_bayes import GaussianNB"
   ]
  },
  {
   "cell_type": "code",
   "execution_count": 3,
   "metadata": {},
   "outputs": [],
   "source": [
    "data = pd.read_csv('../data/std_data.csv')\n",
    "x = data.iloc[:,:-1].values\n",
    "y = data.iloc[:,-1].apply(lambda x: str(x)).values"
   ]
  },
  {
   "cell_type": "code",
   "execution_count": 4,
   "metadata": {},
   "outputs": [],
   "source": [
    "x_train,x_test,y_train,y_test = train_test_split(x,y,test_size=.20, random_state=42)"
   ]
  },
  {
   "cell_type": "code",
   "execution_count": 5,
   "metadata": {},
   "outputs": [],
   "source": [
    "classifier =  GaussianNB(priors=None)"
   ]
  },
  {
   "cell_type": "code",
   "execution_count": 6,
   "metadata": {},
   "outputs": [
    {
     "data": {
      "text/plain": [
       "GaussianNB(priors=None, var_smoothing=1e-09)"
      ]
     },
     "execution_count": 6,
     "metadata": {},
     "output_type": "execute_result"
    }
   ],
   "source": [
    "classifier.fit(x_train, y_train)"
   ]
  },
  {
   "cell_type": "code",
   "execution_count": 7,
   "metadata": {},
   "outputs": [],
   "source": [
    "y_pred = classifier.predict(x_test)"
   ]
  },
  {
   "cell_type": "code",
   "execution_count": 8,
   "metadata": {},
   "outputs": [
    {
     "name": "stdout",
     "output_type": "stream",
     "text": [
      "[[28  0  3  0]\n",
      " [ 2 41  0  0]\n",
      " [ 0  0 27  0]\n",
      " [ 0  1  0 79]]\n",
      "              precision    recall  f1-score   support\n",
      "\n",
      "         0.0       0.93      0.90      0.92        31\n",
      "        0.19       0.98      0.95      0.96        43\n",
      "         2.5       0.90      1.00      0.95        27\n",
      "         4.5       1.00      0.99      0.99        80\n",
      "\n",
      "    accuracy                           0.97       181\n",
      "   macro avg       0.95      0.96      0.96       181\n",
      "weighted avg       0.97      0.97      0.97       181\n",
      "\n",
      "0.9668508287292817\n"
     ]
    }
   ],
   "source": [
    "print(confusion_matrix(y_test,y_pred))\n",
    "print(classification_report(y_test,y_pred))\n",
    "print(accuracy_score(y_test, y_pred))"
   ]
  },
  {
   "cell_type": "code",
   "execution_count": 9,
   "metadata": {},
   "outputs": [],
   "source": [
    "# applying pca"
   ]
  },
  {
   "cell_type": "code",
   "execution_count": 10,
   "metadata": {},
   "outputs": [],
   "source": [
    "from sklearn.decomposition import PCA"
   ]
  },
  {
   "cell_type": "code",
   "execution_count": 11,
   "metadata": {},
   "outputs": [],
   "source": [
    "pca = PCA(n_components= None)"
   ]
  },
  {
   "cell_type": "code",
   "execution_count": 12,
   "metadata": {},
   "outputs": [],
   "source": [
    "x_t1 = pca.fit_transform(x_train)"
   ]
  },
  {
   "cell_type": "code",
   "execution_count": 13,
   "metadata": {},
   "outputs": [],
   "source": [
    "x_te1 = pca.fit_transform(x_test)"
   ]
  },
  {
   "cell_type": "code",
   "execution_count": 14,
   "metadata": {},
   "outputs": [],
   "source": [
    "ext = pca.explained_variance_ratio_"
   ]
  },
  {
   "cell_type": "code",
   "execution_count": 15,
   "metadata": {},
   "outputs": [
    {
     "name": "stdout",
     "output_type": "stream",
     "text": [
      "[3.74845487e-01 1.75552068e-01 1.08254268e-01 8.57308929e-02\n",
      " 4.60100395e-02 4.26144287e-02 3.07761065e-02 2.82503173e-02\n",
      " 2.43563132e-02 2.26478322e-02 1.44042754e-02 9.73960811e-03\n",
      " 9.20989728e-03 5.79699459e-03 3.71783506e-03 2.86974861e-03\n",
      " 2.70697516e-03 2.57204643e-03 1.93937371e-03 1.68633762e-03\n",
      " 1.20686935e-03 1.12887418e-03 8.80020121e-04 7.88254077e-04\n",
      " 5.12406684e-04 3.88212762e-04 3.12086209e-04 2.33449495e-04\n",
      " 2.23410089e-04 2.00349801e-04 1.42202398e-04 1.15375468e-04\n",
      " 7.79892735e-05 5.48658729e-05 3.25349622e-05 2.01090785e-05\n",
      " 1.64757119e-06 2.58416424e-07 1.07338627e-07 7.20907067e-08\n",
      " 4.18793112e-08 1.59383308e-08 1.24851127e-09 2.83316621e-10\n",
      " 1.35875741e-10] (45,)\n"
     ]
    }
   ],
   "source": [
    "print(ext, ext.shape, end = '\\n')"
   ]
  },
  {
   "cell_type": "code",
   "execution_count": 16,
   "metadata": {},
   "outputs": [
    {
     "name": "stdout",
     "output_type": "stream",
     "text": [
      "[1.85636774e+01 8.69396079e+00 5.36113513e+00 4.24569775e+00\n",
      " 2.27858027e+00 2.11041758e+00 1.52414190e+00 1.39905587e+00\n",
      " 1.20621098e+00 1.12160094e+00 7.13350785e-01 4.82339922e-01\n",
      " 4.56106764e-01 2.87087723e-01 1.84120373e-01 1.42120125e-01\n",
      " 1.34059007e-01 1.27376858e-01 9.60446615e-02 8.35134172e-02\n",
      " 5.97684490e-02 5.59058516e-02 4.35817162e-02 3.90371364e-02\n",
      " 2.53761955e-02 1.92256723e-02 1.54556154e-02 1.15612466e-02\n",
      " 1.10640596e-02 9.92203242e-03 7.04236686e-03 5.71380221e-03\n",
      " 3.86230531e-03 2.71715253e-03 1.61124667e-03 9.95872856e-04\n",
      " 8.15935665e-05 1.27976975e-05 5.31578934e-06 3.57018737e-06\n",
      " 2.07401196e-06 7.89322644e-07 6.18307042e-08 1.40308435e-08\n",
      " 6.72904841e-09]\n",
      "(45,)\n"
     ]
    }
   ],
   "source": [
    "print(pca.explained_variance_)\n",
    "print(pca.explained_variance_.shape)"
   ]
  },
  {
   "cell_type": "code",
   "execution_count": 17,
   "metadata": {},
   "outputs": [],
   "source": [
    "# Setting the pc = 10"
   ]
  },
  {
   "cell_type": "code",
   "execution_count": 18,
   "metadata": {
    "scrolled": true
   },
   "outputs": [
    {
     "name": "stdout",
     "output_type": "stream",
     "text": [
      "[[17  3  2  9]\n",
      " [13 25  4  1]\n",
      " [ 0  0 27  0]\n",
      " [ 3  6  0 71]]\n",
      "              precision    recall  f1-score   support\n",
      "\n",
      "         0.0       0.52      0.55      0.53        31\n",
      "        0.19       0.74      0.58      0.65        43\n",
      "         2.5       0.82      1.00      0.90        27\n",
      "         4.5       0.88      0.89      0.88        80\n",
      "\n",
      "    accuracy                           0.77       181\n",
      "   macro avg       0.74      0.75      0.74       181\n",
      "weighted avg       0.77      0.77      0.77       181\n",
      "\n",
      "0.7734806629834254\n"
     ]
    }
   ],
   "source": [
    "pca = PCA(n_components= 10)\n",
    "x_t1 = pca.fit_transform(x_train)\n",
    "x_te1 = pca.fit_transform(x_test)\n",
    "classifier =  GaussianNB(priors=None)\n",
    "classifier.fit(x_t1, y_train)\n",
    "y_pred = classifier.predict(x_te1)\n",
    "print(confusion_matrix(y_test,y_pred))\n",
    "print(classification_report(y_test,y_pred))\n",
    "print(accuracy_score(y_test, y_pred))"
   ]
  },
  {
   "cell_type": "code",
   "execution_count": 19,
   "metadata": {},
   "outputs": [
    {
     "name": "stdout",
     "output_type": "stream",
     "text": [
      "[[18  7  3  3]\n",
      " [11 28  2  2]\n",
      " [ 0  0 27  0]\n",
      " [13  5  0 62]]\n",
      "              precision    recall  f1-score   support\n",
      "\n",
      "         0.0       0.43      0.58      0.49        31\n",
      "        0.19       0.70      0.65      0.67        43\n",
      "         2.5       0.84      1.00      0.92        27\n",
      "         4.5       0.93      0.78      0.84        80\n",
      "\n",
      "    accuracy                           0.75       181\n",
      "   macro avg       0.72      0.75      0.73       181\n",
      "weighted avg       0.77      0.75      0.75       181\n",
      "\n",
      "0.7458563535911602\n"
     ]
    }
   ],
   "source": [
    "pca = PCA(n_components= 25)\n",
    "x_t1 = pca.fit_transform(x_train)\n",
    "x_te1 = pca.fit_transform(x_test)\n",
    "classifier =  GaussianNB(priors=None)\n",
    "classifier.fit(x_t1, y_train)\n",
    "y_pred = classifier.predict(x_te1)\n",
    "print(confusion_matrix(y_test,y_pred))\n",
    "print(classification_report(y_test,y_pred))\n",
    "print(accuracy_score(y_test, y_pred))"
   ]
  },
  {
   "cell_type": "code",
   "execution_count": 20,
   "metadata": {},
   "outputs": [
    {
     "name": "stdout",
     "output_type": "stream",
     "text": [
      "[[24  2  3  2]\n",
      " [ 6 33  2  2]\n",
      " [ 0  0 27  0]\n",
      " [10  3  0 67]]\n",
      "              precision    recall  f1-score   support\n",
      "\n",
      "         0.0       0.60      0.77      0.68        31\n",
      "        0.19       0.87      0.77      0.81        43\n",
      "         2.5       0.84      1.00      0.92        27\n",
      "         4.5       0.94      0.84      0.89        80\n",
      "\n",
      "    accuracy                           0.83       181\n",
      "   macro avg       0.81      0.84      0.82       181\n",
      "weighted avg       0.85      0.83      0.84       181\n",
      "\n",
      "0.8342541436464088\n"
     ]
    }
   ],
   "source": [
    "pca = PCA(n_components= 45)\n",
    "x_t1 = pca.fit_transform(x_train)\n",
    "x_te1 = pca.fit_transform(x_test)\n",
    "classifier =  GaussianNB(priors=None)\n",
    "classifier.fit(x_t1, y_train)\n",
    "y_pred = classifier.predict(x_te1)\n",
    "print(confusion_matrix(y_test,y_pred))\n",
    "print(classification_report(y_test,y_pred))\n",
    "print(accuracy_score(y_test, y_pred))"
   ]
  },
  {
   "cell_type": "code",
   "execution_count": 22,
   "metadata": {},
   "outputs": [
    {
     "name": "stdout",
     "output_type": "stream",
     "text": [
      "[[24  2  3  2]\n",
      " [ 6 33  2  2]\n",
      " [ 0  0 27  0]\n",
      " [11  4  0 65]]\n",
      "              precision    recall  f1-score   support\n",
      "\n",
      "         0.0       0.59      0.77      0.67        31\n",
      "        0.19       0.85      0.77      0.80        43\n",
      "         2.5       0.84      1.00      0.92        27\n",
      "         4.5       0.94      0.81      0.87        80\n",
      "\n",
      "    accuracy                           0.82       181\n",
      "   macro avg       0.80      0.84      0.81       181\n",
      "weighted avg       0.84      0.82      0.83       181\n",
      "\n",
      "0.8232044198895028\n"
     ]
    }
   ],
   "source": [
    "pca = PCA(n_components= 40)\n",
    "x_t1 = pca.fit_transform(x_train)\n",
    "x_te1 = pca.fit_transform(x_test)\n",
    "classifier =  GaussianNB(priors=None)\n",
    "classifier.fit(x_t1, y_train)\n",
    "y_pred = classifier.predict(x_te1)\n",
    "print(confusion_matrix(y_test,y_pred))\n",
    "print(classification_report(y_test,y_pred))\n",
    "print(accuracy_score(y_test, y_pred))"
   ]
  },
  {
   "cell_type": "code",
   "execution_count": null,
   "metadata": {},
   "outputs": [],
   "source": []
  }
 ],
 "metadata": {
  "kernelspec": {
   "display_name": "Python 3",
   "language": "python",
   "name": "python3"
  },
  "language_info": {
   "codemirror_mode": {
    "name": "ipython",
    "version": 3
   },
   "file_extension": ".py",
   "mimetype": "text/x-python",
   "name": "python",
   "nbconvert_exporter": "python",
   "pygments_lexer": "ipython3",
   "version": "3.8.5"
  }
 },
 "nbformat": 4,
 "nbformat_minor": 4
}
