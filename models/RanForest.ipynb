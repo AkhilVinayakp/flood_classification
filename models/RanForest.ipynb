{
 "cells": [
  {
   "cell_type": "code",
   "execution_count": 1,
   "metadata": {},
   "outputs": [],
   "source": [
    "import numpy as np\n",
    "import matplotlib.pyplot as plt\n",
    "import pandas as pd\n",
    "from sklearn.model_selection import train_test_split\n",
    "from sklearn.ensemble import RandomForestClassifier\n",
    "from sklearn.metrics import confusion_matrix"
   ]
  },
  {
   "cell_type": "code",
   "execution_count": 2,
   "metadata": {},
   "outputs": [],
   "source": [
    "data = pd.read_csv('../data/std_data.csv')"
   ]
  },
  {
   "cell_type": "code",
   "execution_count": 3,
   "metadata": {},
   "outputs": [
    {
     "data": {
      "text/html": [
       "<div>\n",
       "<style scoped>\n",
       "    .dataframe tbody tr th:only-of-type {\n",
       "        vertical-align: middle;\n",
       "    }\n",
       "\n",
       "    .dataframe tbody tr th {\n",
       "        vertical-align: top;\n",
       "    }\n",
       "\n",
       "    .dataframe thead th {\n",
       "        text-align: right;\n",
       "    }\n",
       "</style>\n",
       "<table border=\"1\" class=\"dataframe\">\n",
       "  <thead>\n",
       "    <tr style=\"text-align: right;\">\n",
       "      <th></th>\n",
       "      <th>gx_mean</th>\n",
       "      <th>gx_median</th>\n",
       "      <th>gx_variance</th>\n",
       "      <th>gx_fft</th>\n",
       "      <th>gx_spec_energy</th>\n",
       "      <th>gy_mean</th>\n",
       "      <th>gy_median</th>\n",
       "      <th>gy_variance</th>\n",
       "      <th>gy_fft</th>\n",
       "      <th>gy_spec_energy</th>\n",
       "      <th>...</th>\n",
       "      <th>wy_median</th>\n",
       "      <th>wy_variance</th>\n",
       "      <th>wy_fft</th>\n",
       "      <th>wy_spec_energy</th>\n",
       "      <th>wz_mean</th>\n",
       "      <th>wz_median</th>\n",
       "      <th>wz_variance</th>\n",
       "      <th>wz_fft</th>\n",
       "      <th>wz_spec_energy</th>\n",
       "      <th>label</th>\n",
       "    </tr>\n",
       "  </thead>\n",
       "  <tbody>\n",
       "    <tr>\n",
       "      <th>0</th>\n",
       "      <td>0.046215</td>\n",
       "      <td>0.058430</td>\n",
       "      <td>-0.220840</td>\n",
       "      <td>-0.229310</td>\n",
       "      <td>-0.220605</td>\n",
       "      <td>0.385255</td>\n",
       "      <td>0.373062</td>\n",
       "      <td>-0.237299</td>\n",
       "      <td>0.359702</td>\n",
       "      <td>-0.236724</td>\n",
       "      <td>...</td>\n",
       "      <td>-1.275804</td>\n",
       "      <td>-0.241437</td>\n",
       "      <td>-0.421834</td>\n",
       "      <td>-0.241703</td>\n",
       "      <td>-0.526301</td>\n",
       "      <td>-0.595596</td>\n",
       "      <td>-0.229148</td>\n",
       "      <td>-0.366775</td>\n",
       "      <td>-0.229310</td>\n",
       "      <td>0.0</td>\n",
       "    </tr>\n",
       "    <tr>\n",
       "      <th>1</th>\n",
       "      <td>-0.174583</td>\n",
       "      <td>-0.183538</td>\n",
       "      <td>-0.237830</td>\n",
       "      <td>-0.446876</td>\n",
       "      <td>-0.237550</td>\n",
       "      <td>0.400423</td>\n",
       "      <td>0.388720</td>\n",
       "      <td>-0.237515</td>\n",
       "      <td>0.384871</td>\n",
       "      <td>-0.236948</td>\n",
       "      <td>...</td>\n",
       "      <td>0.784026</td>\n",
       "      <td>-0.169742</td>\n",
       "      <td>-0.009689</td>\n",
       "      <td>-0.165206</td>\n",
       "      <td>-0.229242</td>\n",
       "      <td>-0.533358</td>\n",
       "      <td>-0.244148</td>\n",
       "      <td>-0.506583</td>\n",
       "      <td>-0.244439</td>\n",
       "      <td>0.0</td>\n",
       "    </tr>\n",
       "    <tr>\n",
       "      <th>2</th>\n",
       "      <td>-0.209093</td>\n",
       "      <td>-0.218446</td>\n",
       "      <td>-0.243878</td>\n",
       "      <td>-0.504801</td>\n",
       "      <td>-0.243634</td>\n",
       "      <td>0.411072</td>\n",
       "      <td>0.398077</td>\n",
       "      <td>-0.237819</td>\n",
       "      <td>0.392210</td>\n",
       "      <td>-0.237252</td>\n",
       "      <td>...</td>\n",
       "      <td>0.566364</td>\n",
       "      <td>-0.187077</td>\n",
       "      <td>-0.017944</td>\n",
       "      <td>-0.188066</td>\n",
       "      <td>0.004644</td>\n",
       "      <td>-0.136590</td>\n",
       "      <td>-0.266644</td>\n",
       "      <td>-0.583725</td>\n",
       "      <td>-0.265907</td>\n",
       "      <td>0.0</td>\n",
       "    </tr>\n",
       "    <tr>\n",
       "      <th>3</th>\n",
       "      <td>-0.223293</td>\n",
       "      <td>-0.183240</td>\n",
       "      <td>-0.233575</td>\n",
       "      <td>-0.462391</td>\n",
       "      <td>-0.233330</td>\n",
       "      <td>0.415867</td>\n",
       "      <td>0.403806</td>\n",
       "      <td>-0.237943</td>\n",
       "      <td>0.393427</td>\n",
       "      <td>-0.237376</td>\n",
       "      <td>...</td>\n",
       "      <td>0.327466</td>\n",
       "      <td>-0.019173</td>\n",
       "      <td>0.562431</td>\n",
       "      <td>-0.019202</td>\n",
       "      <td>-0.515430</td>\n",
       "      <td>-0.517798</td>\n",
       "      <td>-0.288882</td>\n",
       "      <td>-0.388326</td>\n",
       "      <td>-0.287477</td>\n",
       "      <td>0.0</td>\n",
       "    </tr>\n",
       "    <tr>\n",
       "      <th>4</th>\n",
       "      <td>-0.242859</td>\n",
       "      <td>-0.159073</td>\n",
       "      <td>-0.224825</td>\n",
       "      <td>-0.427087</td>\n",
       "      <td>-0.224536</td>\n",
       "      <td>0.413581</td>\n",
       "      <td>0.404761</td>\n",
       "      <td>-0.237771</td>\n",
       "      <td>0.399360</td>\n",
       "      <td>-0.237204</td>\n",
       "      <td>...</td>\n",
       "      <td>1.851104</td>\n",
       "      <td>0.544371</td>\n",
       "      <td>1.628924</td>\n",
       "      <td>0.547799</td>\n",
       "      <td>-0.399662</td>\n",
       "      <td>-0.821209</td>\n",
       "      <td>-0.250318</td>\n",
       "      <td>-0.305767</td>\n",
       "      <td>-0.250568</td>\n",
       "      <td>0.0</td>\n",
       "    </tr>\n",
       "    <tr>\n",
       "      <th>...</th>\n",
       "      <td>...</td>\n",
       "      <td>...</td>\n",
       "      <td>...</td>\n",
       "      <td>...</td>\n",
       "      <td>...</td>\n",
       "      <td>...</td>\n",
       "      <td>...</td>\n",
       "      <td>...</td>\n",
       "      <td>...</td>\n",
       "      <td>...</td>\n",
       "      <td>...</td>\n",
       "      <td>...</td>\n",
       "      <td>...</td>\n",
       "      <td>...</td>\n",
       "      <td>...</td>\n",
       "      <td>...</td>\n",
       "      <td>...</td>\n",
       "      <td>...</td>\n",
       "      <td>...</td>\n",
       "      <td>...</td>\n",
       "      <td>...</td>\n",
       "    </tr>\n",
       "    <tr>\n",
       "      <th>897</th>\n",
       "      <td>-0.083690</td>\n",
       "      <td>-0.119329</td>\n",
       "      <td>-0.038897</td>\n",
       "      <td>0.042016</td>\n",
       "      <td>-0.038763</td>\n",
       "      <td>-7.071246</td>\n",
       "      <td>-7.061143</td>\n",
       "      <td>-0.235080</td>\n",
       "      <td>0.407856</td>\n",
       "      <td>-0.234513</td>\n",
       "      <td>...</td>\n",
       "      <td>-0.747256</td>\n",
       "      <td>1.618458</td>\n",
       "      <td>2.067892</td>\n",
       "      <td>1.664508</td>\n",
       "      <td>-0.186423</td>\n",
       "      <td>0.525233</td>\n",
       "      <td>0.023756</td>\n",
       "      <td>0.687085</td>\n",
       "      <td>0.023392</td>\n",
       "      <td>2.5</td>\n",
       "    </tr>\n",
       "    <tr>\n",
       "      <th>898</th>\n",
       "      <td>-0.141768</td>\n",
       "      <td>-0.117586</td>\n",
       "      <td>-0.001722</td>\n",
       "      <td>0.022061</td>\n",
       "      <td>-0.001547</td>\n",
       "      <td>-7.071041</td>\n",
       "      <td>-7.055827</td>\n",
       "      <td>-0.235851</td>\n",
       "      <td>0.383282</td>\n",
       "      <td>-0.235285</td>\n",
       "      <td>...</td>\n",
       "      <td>-4.731489</td>\n",
       "      <td>2.777027</td>\n",
       "      <td>2.503986</td>\n",
       "      <td>2.785224</td>\n",
       "      <td>-0.218506</td>\n",
       "      <td>1.494668</td>\n",
       "      <td>0.346958</td>\n",
       "      <td>1.014308</td>\n",
       "      <td>0.345634</td>\n",
       "      <td>2.5</td>\n",
       "    </tr>\n",
       "    <tr>\n",
       "      <th>899</th>\n",
       "      <td>0.685436</td>\n",
       "      <td>0.033866</td>\n",
       "      <td>2.909161</td>\n",
       "      <td>2.191753</td>\n",
       "      <td>2.909752</td>\n",
       "      <td>-6.675688</td>\n",
       "      <td>-7.023176</td>\n",
       "      <td>1.615553</td>\n",
       "      <td>1.448012</td>\n",
       "      <td>1.617483</td>\n",
       "      <td>...</td>\n",
       "      <td>-0.314639</td>\n",
       "      <td>8.599137</td>\n",
       "      <td>1.848900</td>\n",
       "      <td>8.599015</td>\n",
       "      <td>-4.666282</td>\n",
       "      <td>0.707435</td>\n",
       "      <td>4.673772</td>\n",
       "      <td>3.817541</td>\n",
       "      <td>4.707787</td>\n",
       "      <td>2.5</td>\n",
       "    </tr>\n",
       "    <tr>\n",
       "      <th>900</th>\n",
       "      <td>0.752242</td>\n",
       "      <td>-0.149132</td>\n",
       "      <td>2.838121</td>\n",
       "      <td>2.089799</td>\n",
       "      <td>2.836993</td>\n",
       "      <td>-4.104739</td>\n",
       "      <td>-4.426905</td>\n",
       "      <td>15.740210</td>\n",
       "      <td>-0.700166</td>\n",
       "      <td>15.747353</td>\n",
       "      <td>...</td>\n",
       "      <td>0.624177</td>\n",
       "      <td>8.357835</td>\n",
       "      <td>3.236073</td>\n",
       "      <td>8.378800</td>\n",
       "      <td>-2.230325</td>\n",
       "      <td>0.305455</td>\n",
       "      <td>4.940829</td>\n",
       "      <td>3.491547</td>\n",
       "      <td>5.007725</td>\n",
       "      <td>2.5</td>\n",
       "    </tr>\n",
       "    <tr>\n",
       "      <th>901</th>\n",
       "      <td>-0.152722</td>\n",
       "      <td>-0.354915</td>\n",
       "      <td>0.223914</td>\n",
       "      <td>-0.364357</td>\n",
       "      <td>-0.020152</td>\n",
       "      <td>-1.916145</td>\n",
       "      <td>-1.669206</td>\n",
       "      <td>0.977980</td>\n",
       "      <td>-4.448108</td>\n",
       "      <td>0.358110</td>\n",
       "      <td>...</td>\n",
       "      <td>0.092497</td>\n",
       "      <td>3.094755</td>\n",
       "      <td>1.936148</td>\n",
       "      <td>1.321408</td>\n",
       "      <td>3.389331</td>\n",
       "      <td>2.145211</td>\n",
       "      <td>0.932688</td>\n",
       "      <td>1.030752</td>\n",
       "      <td>0.289102</td>\n",
       "      <td>2.5</td>\n",
       "    </tr>\n",
       "  </tbody>\n",
       "</table>\n",
       "<p>902 rows × 46 columns</p>\n",
       "</div>"
      ],
      "text/plain": [
       "      gx_mean  gx_median  gx_variance    gx_fft  gx_spec_energy   gy_mean  \\\n",
       "0    0.046215   0.058430    -0.220840 -0.229310       -0.220605  0.385255   \n",
       "1   -0.174583  -0.183538    -0.237830 -0.446876       -0.237550  0.400423   \n",
       "2   -0.209093  -0.218446    -0.243878 -0.504801       -0.243634  0.411072   \n",
       "3   -0.223293  -0.183240    -0.233575 -0.462391       -0.233330  0.415867   \n",
       "4   -0.242859  -0.159073    -0.224825 -0.427087       -0.224536  0.413581   \n",
       "..        ...        ...          ...       ...             ...       ...   \n",
       "897 -0.083690  -0.119329    -0.038897  0.042016       -0.038763 -7.071246   \n",
       "898 -0.141768  -0.117586    -0.001722  0.022061       -0.001547 -7.071041   \n",
       "899  0.685436   0.033866     2.909161  2.191753        2.909752 -6.675688   \n",
       "900  0.752242  -0.149132     2.838121  2.089799        2.836993 -4.104739   \n",
       "901 -0.152722  -0.354915     0.223914 -0.364357       -0.020152 -1.916145   \n",
       "\n",
       "     gy_median  gy_variance    gy_fft  gy_spec_energy  ...  wy_median  \\\n",
       "0     0.373062    -0.237299  0.359702       -0.236724  ...  -1.275804   \n",
       "1     0.388720    -0.237515  0.384871       -0.236948  ...   0.784026   \n",
       "2     0.398077    -0.237819  0.392210       -0.237252  ...   0.566364   \n",
       "3     0.403806    -0.237943  0.393427       -0.237376  ...   0.327466   \n",
       "4     0.404761    -0.237771  0.399360       -0.237204  ...   1.851104   \n",
       "..         ...          ...       ...             ...  ...        ...   \n",
       "897  -7.061143    -0.235080  0.407856       -0.234513  ...  -0.747256   \n",
       "898  -7.055827    -0.235851  0.383282       -0.235285  ...  -4.731489   \n",
       "899  -7.023176     1.615553  1.448012        1.617483  ...  -0.314639   \n",
       "900  -4.426905    15.740210 -0.700166       15.747353  ...   0.624177   \n",
       "901  -1.669206     0.977980 -4.448108        0.358110  ...   0.092497   \n",
       "\n",
       "     wy_variance    wy_fft  wy_spec_energy   wz_mean  wz_median  wz_variance  \\\n",
       "0      -0.241437 -0.421834       -0.241703 -0.526301  -0.595596    -0.229148   \n",
       "1      -0.169742 -0.009689       -0.165206 -0.229242  -0.533358    -0.244148   \n",
       "2      -0.187077 -0.017944       -0.188066  0.004644  -0.136590    -0.266644   \n",
       "3      -0.019173  0.562431       -0.019202 -0.515430  -0.517798    -0.288882   \n",
       "4       0.544371  1.628924        0.547799 -0.399662  -0.821209    -0.250318   \n",
       "..           ...       ...             ...       ...        ...          ...   \n",
       "897     1.618458  2.067892        1.664508 -0.186423   0.525233     0.023756   \n",
       "898     2.777027  2.503986        2.785224 -0.218506   1.494668     0.346958   \n",
       "899     8.599137  1.848900        8.599015 -4.666282   0.707435     4.673772   \n",
       "900     8.357835  3.236073        8.378800 -2.230325   0.305455     4.940829   \n",
       "901     3.094755  1.936148        1.321408  3.389331   2.145211     0.932688   \n",
       "\n",
       "       wz_fft  wz_spec_energy  label  \n",
       "0   -0.366775       -0.229310    0.0  \n",
       "1   -0.506583       -0.244439    0.0  \n",
       "2   -0.583725       -0.265907    0.0  \n",
       "3   -0.388326       -0.287477    0.0  \n",
       "4   -0.305767       -0.250568    0.0  \n",
       "..        ...             ...    ...  \n",
       "897  0.687085        0.023392    2.5  \n",
       "898  1.014308        0.345634    2.5  \n",
       "899  3.817541        4.707787    2.5  \n",
       "900  3.491547        5.007725    2.5  \n",
       "901  1.030752        0.289102    2.5  \n",
       "\n",
       "[902 rows x 46 columns]"
      ]
     },
     "execution_count": 3,
     "metadata": {},
     "output_type": "execute_result"
    }
   ],
   "source": [
    "data"
   ]
  },
  {
   "cell_type": "code",
   "execution_count": 11,
   "metadata": {},
   "outputs": [],
   "source": [
    "x = data.iloc[:,:-1].values"
   ]
  },
  {
   "cell_type": "code",
   "execution_count": 12,
   "metadata": {},
   "outputs": [
    {
     "data": {
      "text/plain": [
       "array([[ 0.04621491,  0.05842975, -0.22083982, ..., -0.22914835,\n",
       "        -0.36677491, -0.22930991],\n",
       "       [-0.17458333, -0.18353847, -0.23783025, ..., -0.24414803,\n",
       "        -0.50658303, -0.24443851],\n",
       "       [-0.20909349, -0.21844634, -0.24387775, ..., -0.26664441,\n",
       "        -0.58372546, -0.26590708],\n",
       "       ...,\n",
       "       [ 0.68543597,  0.03386595,  2.90916055, ...,  4.67377196,\n",
       "         3.81754061,  4.70778694],\n",
       "       [ 0.75224214, -0.14913184,  2.83812149, ...,  4.94082851,\n",
       "         3.49154685,  5.00772549],\n",
       "       [-0.15272177, -0.35491522,  0.22391389, ...,  0.93268846,\n",
       "         1.03075248,  0.28910169]])"
      ]
     },
     "execution_count": 12,
     "metadata": {},
     "output_type": "execute_result"
    }
   ],
   "source": [
    "x"
   ]
  },
  {
   "cell_type": "code",
   "execution_count": 37,
   "metadata": {},
   "outputs": [],
   "source": [
    "y = data.iloc[:,-1].apply(lambda x: str(x)).values"
   ]
  },
  {
   "cell_type": "code",
   "execution_count": 38,
   "metadata": {},
   "outputs": [
    {
     "data": {
      "text/plain": [
       "str"
      ]
     },
     "execution_count": 38,
     "metadata": {},
     "output_type": "execute_result"
    }
   ],
   "source": [
    "type(y[0])"
   ]
  },
  {
   "cell_type": "code",
   "execution_count": 39,
   "metadata": {},
   "outputs": [],
   "source": [
    "x_train,x_test,y_train,y_test = train_test_split(x,y,test_size=.20, random_state=0)"
   ]
  },
  {
   "cell_type": "code",
   "execution_count": 40,
   "metadata": {},
   "outputs": [
    {
     "data": {
      "text/plain": [
       "(721, 45)"
      ]
     },
     "execution_count": 40,
     "metadata": {},
     "output_type": "execute_result"
    }
   ],
   "source": [
    "x_train.shape"
   ]
  },
  {
   "cell_type": "code",
   "execution_count": 41,
   "metadata": {},
   "outputs": [
    {
     "data": {
      "text/plain": [
       "(181, 45)"
      ]
     },
     "execution_count": 41,
     "metadata": {},
     "output_type": "execute_result"
    }
   ],
   "source": [
    "x_test.shape"
   ]
  },
  {
   "cell_type": "code",
   "execution_count": 42,
   "metadata": {},
   "outputs": [
    {
     "data": {
      "text/plain": [
       "(721,)"
      ]
     },
     "execution_count": 42,
     "metadata": {},
     "output_type": "execute_result"
    }
   ],
   "source": [
    "y_train.shape"
   ]
  },
  {
   "cell_type": "code",
   "execution_count": 43,
   "metadata": {},
   "outputs": [
    {
     "data": {
      "text/plain": [
       "((721,), (181,))"
      ]
     },
     "execution_count": 43,
     "metadata": {},
     "output_type": "execute_result"
    }
   ],
   "source": [
    "y_train.shape, y_test.shape"
   ]
  },
  {
   "cell_type": "code",
   "execution_count": 44,
   "metadata": {},
   "outputs": [
    {
     "data": {
      "text/plain": [
       "array(['0.0', '0.19', '2.5', '4.5'], dtype=object)"
      ]
     },
     "execution_count": 44,
     "metadata": {},
     "output_type": "execute_result"
    }
   ],
   "source": [
    "np.unique(y_test)"
   ]
  },
  {
   "cell_type": "code",
   "execution_count": 45,
   "metadata": {},
   "outputs": [
    {
     "data": {
      "text/plain": [
       "str"
      ]
     },
     "execution_count": 45,
     "metadata": {},
     "output_type": "execute_result"
    }
   ],
   "source": [
    "type(y_train[0])"
   ]
  },
  {
   "cell_type": "code",
   "execution_count": 46,
   "metadata": {},
   "outputs": [],
   "source": [
    "#  trainig the classifier"
   ]
  },
  {
   "cell_type": "code",
   "execution_count": 47,
   "metadata": {},
   "outputs": [],
   "source": [
    "classifier = RandomForestClassifier(n_estimators=30,criterion='entropy',max_depth=10,max_features='sqrt',max_leaf_nodes=None,min_samples_split=8)"
   ]
  },
  {
   "cell_type": "code",
   "execution_count": 48,
   "metadata": {},
   "outputs": [
    {
     "data": {
      "text/plain": [
       "RandomForestClassifier(bootstrap=True, ccp_alpha=0.0, class_weight=None,\n",
       "                       criterion='entropy', max_depth=10, max_features='sqrt',\n",
       "                       max_leaf_nodes=None, max_samples=None,\n",
       "                       min_impurity_decrease=0.0, min_impurity_split=None,\n",
       "                       min_samples_leaf=1, min_samples_split=8,\n",
       "                       min_weight_fraction_leaf=0.0, n_estimators=30,\n",
       "                       n_jobs=None, oob_score=False, random_state=None,\n",
       "                       verbose=0, warm_start=False)"
      ]
     },
     "execution_count": 48,
     "metadata": {},
     "output_type": "execute_result"
    }
   ],
   "source": [
    "classifier.fit(x_train,y_train)"
   ]
  },
  {
   "cell_type": "code",
   "execution_count": 49,
   "metadata": {},
   "outputs": [],
   "source": [
    "y_pred = classifier.predict(x_test)"
   ]
  },
  {
   "cell_type": "code",
   "execution_count": 50,
   "metadata": {},
   "outputs": [
    {
     "name": "stdout",
     "output_type": "stream",
     "text": [
      "[[20  0  0  0]\n",
      " [ 0 44  0  1]\n",
      " [ 0  0 27  0]\n",
      " [ 0  0  0 89]]\n"
     ]
    }
   ],
   "source": [
    "cm = confusion_matrix(y_test, y_pred)\n",
    "print(cm)"
   ]
  },
  {
   "cell_type": "code",
   "execution_count": 51,
   "metadata": {},
   "outputs": [
    {
     "name": "stdout",
     "output_type": "stream",
     "text": [
      "[[20  0  0  0]\n",
      " [ 0 44  0  1]\n",
      " [ 0  0 27  0]\n",
      " [ 0  0  0 89]]\n",
      "              precision    recall  f1-score   support\n",
      "\n",
      "         0.0       1.00      1.00      1.00        20\n",
      "        0.19       1.00      0.98      0.99        45\n",
      "         2.5       1.00      1.00      1.00        27\n",
      "         4.5       0.99      1.00      0.99        89\n",
      "\n",
      "    accuracy                           0.99       181\n",
      "   macro avg       1.00      0.99      1.00       181\n",
      "weighted avg       0.99      0.99      0.99       181\n",
      "\n",
      "0.994475138121547\n"
     ]
    }
   ],
   "source": [
    "from sklearn.metrics import classification_report, confusion_matrix, accuracy_score\n",
    "\n",
    "print(confusion_matrix(y_test,y_pred))\n",
    "print(classification_report(y_test,y_pred))\n",
    "print(accuracy_score(y_test, y_pred))"
   ]
  },
  {
   "cell_type": "code",
   "execution_count": null,
   "metadata": {},
   "outputs": [],
   "source": []
  }
 ],
 "metadata": {
  "kernelspec": {
   "display_name": "Python 3",
   "language": "python",
   "name": "python3"
  },
  "language_info": {
   "codemirror_mode": {
    "name": "ipython",
    "version": 3
   },
   "file_extension": ".py",
   "mimetype": "text/x-python",
   "name": "python",
   "nbconvert_exporter": "python",
   "pygments_lexer": "ipython3",
   "version": "3.6.10"
  }
 },
 "nbformat": 4,
 "nbformat_minor": 4
}
