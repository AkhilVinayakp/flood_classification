{
 "cells": [
  {
   "cell_type": "code",
   "execution_count": 1,
   "metadata": {},
   "outputs": [],
   "source": [
    "import pandas as pd\n",
    "import turicreate \n",
    "import numpy as np\n",
    "import matplotlib.pyplot as plt\n",
    "from sklearn.model_selection import train_test_split"
   ]
  },
  {
   "cell_type": "code",
   "execution_count": null,
   "metadata": {},
   "outputs": [],
   "source": []
  },
  {
   "cell_type": "code",
   "execution_count": 2,
   "metadata": {},
   "outputs": [],
   "source": [
    "from sklearn.naive_bayes import GaussianNB"
   ]
  },
  {
   "cell_type": "code",
   "execution_count": 3,
   "metadata": {},
   "outputs": [],
   "source": [
    "data = pd.read_csv('../data/std_data.csv')"
   ]
  },
  {
   "cell_type": "code",
   "execution_count": 4,
   "metadata": {},
   "outputs": [
    {
     "data": {
      "text/html": [
       "<pre>Finished parsing file /home/po/projects/flood_classification/data/std_data.csv</pre>"
      ],
      "text/plain": [
       "Finished parsing file /home/po/projects/flood_classification/data/std_data.csv"
      ]
     },
     "metadata": {},
     "output_type": "display_data"
    },
    {
     "data": {
      "text/html": [
       "<pre>Parsing completed. Parsed 100 lines in 0.091239 secs.</pre>"
      ],
      "text/plain": [
       "Parsing completed. Parsed 100 lines in 0.091239 secs."
      ]
     },
     "metadata": {},
     "output_type": "display_data"
    },
    {
     "name": "stdout",
     "output_type": "stream",
     "text": [
      "------------------------------------------------------\n",
      "Inferred types from first 100 line(s) of file as \n",
      "column_type_hints=[float,float,float,float,float,float,float,float,float,float,float,float,float,float,float,float,float,float,float,float,float,float,float,float,float,float,float,float,float,float,float,float,float,float,float,float,float,float,float,float,float,float,float,float,float,float]\n",
      "If parsing fails due to incorrect types, you can correct\n",
      "the inferred type list above and pass it to read_csv in\n",
      "the column_type_hints argument\n",
      "------------------------------------------------------\n"
     ]
    },
    {
     "data": {
      "text/html": [
       "<pre>Finished parsing file /home/po/projects/flood_classification/data/std_data.csv</pre>"
      ],
      "text/plain": [
       "Finished parsing file /home/po/projects/flood_classification/data/std_data.csv"
      ]
     },
     "metadata": {},
     "output_type": "display_data"
    },
    {
     "data": {
      "text/html": [
       "<pre>Parsing completed. Parsed 902 lines in 0.049493 secs.</pre>"
      ],
      "text/plain": [
       "Parsing completed. Parsed 902 lines in 0.049493 secs."
      ]
     },
     "metadata": {},
     "output_type": "display_data"
    }
   ],
   "source": [
    "turi = turicreate.SFrame('../data/std_data.csv')"
   ]
  },
  {
   "cell_type": "code",
   "execution_count": 5,
   "metadata": {},
   "outputs": [
    {
     "data": {
      "text/html": [
       "<div>\n",
       "<style scoped>\n",
       "    .dataframe tbody tr th:only-of-type {\n",
       "        vertical-align: middle;\n",
       "    }\n",
       "\n",
       "    .dataframe tbody tr th {\n",
       "        vertical-align: top;\n",
       "    }\n",
       "\n",
       "    .dataframe thead th {\n",
       "        text-align: right;\n",
       "    }\n",
       "</style>\n",
       "<table border=\"1\" class=\"dataframe\">\n",
       "  <thead>\n",
       "    <tr style=\"text-align: right;\">\n",
       "      <th></th>\n",
       "      <th>gx_mean</th>\n",
       "      <th>gx_median</th>\n",
       "      <th>gx_variance</th>\n",
       "      <th>gx_fft</th>\n",
       "      <th>gx_spec_energy</th>\n",
       "      <th>gy_mean</th>\n",
       "      <th>gy_median</th>\n",
       "      <th>gy_variance</th>\n",
       "      <th>gy_fft</th>\n",
       "      <th>gy_spec_energy</th>\n",
       "      <th>...</th>\n",
       "      <th>wy_median</th>\n",
       "      <th>wy_variance</th>\n",
       "      <th>wy_fft</th>\n",
       "      <th>wy_spec_energy</th>\n",
       "      <th>wz_mean</th>\n",
       "      <th>wz_median</th>\n",
       "      <th>wz_variance</th>\n",
       "      <th>wz_fft</th>\n",
       "      <th>wz_spec_energy</th>\n",
       "      <th>label</th>\n",
       "    </tr>\n",
       "  </thead>\n",
       "  <tbody>\n",
       "    <tr>\n",
       "      <th>0</th>\n",
       "      <td>0.046215</td>\n",
       "      <td>0.058430</td>\n",
       "      <td>-0.220840</td>\n",
       "      <td>-0.229310</td>\n",
       "      <td>-0.220605</td>\n",
       "      <td>0.385255</td>\n",
       "      <td>0.373062</td>\n",
       "      <td>-0.237299</td>\n",
       "      <td>0.359702</td>\n",
       "      <td>-0.236724</td>\n",
       "      <td>...</td>\n",
       "      <td>-1.275804</td>\n",
       "      <td>-0.241437</td>\n",
       "      <td>-0.421834</td>\n",
       "      <td>-0.241703</td>\n",
       "      <td>-0.526301</td>\n",
       "      <td>-0.595596</td>\n",
       "      <td>-0.229148</td>\n",
       "      <td>-0.366775</td>\n",
       "      <td>-0.229310</td>\n",
       "      <td>0.0</td>\n",
       "    </tr>\n",
       "    <tr>\n",
       "      <th>1</th>\n",
       "      <td>-0.174583</td>\n",
       "      <td>-0.183538</td>\n",
       "      <td>-0.237830</td>\n",
       "      <td>-0.446876</td>\n",
       "      <td>-0.237550</td>\n",
       "      <td>0.400423</td>\n",
       "      <td>0.388720</td>\n",
       "      <td>-0.237515</td>\n",
       "      <td>0.384871</td>\n",
       "      <td>-0.236948</td>\n",
       "      <td>...</td>\n",
       "      <td>0.784026</td>\n",
       "      <td>-0.169742</td>\n",
       "      <td>-0.009689</td>\n",
       "      <td>-0.165206</td>\n",
       "      <td>-0.229242</td>\n",
       "      <td>-0.533358</td>\n",
       "      <td>-0.244148</td>\n",
       "      <td>-0.506583</td>\n",
       "      <td>-0.244439</td>\n",
       "      <td>0.0</td>\n",
       "    </tr>\n",
       "    <tr>\n",
       "      <th>2</th>\n",
       "      <td>-0.209093</td>\n",
       "      <td>-0.218446</td>\n",
       "      <td>-0.243878</td>\n",
       "      <td>-0.504801</td>\n",
       "      <td>-0.243634</td>\n",
       "      <td>0.411072</td>\n",
       "      <td>0.398077</td>\n",
       "      <td>-0.237819</td>\n",
       "      <td>0.392210</td>\n",
       "      <td>-0.237252</td>\n",
       "      <td>...</td>\n",
       "      <td>0.566364</td>\n",
       "      <td>-0.187077</td>\n",
       "      <td>-0.017944</td>\n",
       "      <td>-0.188066</td>\n",
       "      <td>0.004644</td>\n",
       "      <td>-0.136590</td>\n",
       "      <td>-0.266644</td>\n",
       "      <td>-0.583725</td>\n",
       "      <td>-0.265907</td>\n",
       "      <td>0.0</td>\n",
       "    </tr>\n",
       "    <tr>\n",
       "      <th>3</th>\n",
       "      <td>-0.223293</td>\n",
       "      <td>-0.183240</td>\n",
       "      <td>-0.233575</td>\n",
       "      <td>-0.462391</td>\n",
       "      <td>-0.233330</td>\n",
       "      <td>0.415867</td>\n",
       "      <td>0.403806</td>\n",
       "      <td>-0.237943</td>\n",
       "      <td>0.393427</td>\n",
       "      <td>-0.237376</td>\n",
       "      <td>...</td>\n",
       "      <td>0.327466</td>\n",
       "      <td>-0.019173</td>\n",
       "      <td>0.562431</td>\n",
       "      <td>-0.019202</td>\n",
       "      <td>-0.515430</td>\n",
       "      <td>-0.517798</td>\n",
       "      <td>-0.288882</td>\n",
       "      <td>-0.388326</td>\n",
       "      <td>-0.287477</td>\n",
       "      <td>0.0</td>\n",
       "    </tr>\n",
       "    <tr>\n",
       "      <th>4</th>\n",
       "      <td>-0.242859</td>\n",
       "      <td>-0.159073</td>\n",
       "      <td>-0.224825</td>\n",
       "      <td>-0.427087</td>\n",
       "      <td>-0.224536</td>\n",
       "      <td>0.413581</td>\n",
       "      <td>0.404761</td>\n",
       "      <td>-0.237771</td>\n",
       "      <td>0.399360</td>\n",
       "      <td>-0.237204</td>\n",
       "      <td>...</td>\n",
       "      <td>1.851104</td>\n",
       "      <td>0.544371</td>\n",
       "      <td>1.628924</td>\n",
       "      <td>0.547799</td>\n",
       "      <td>-0.399662</td>\n",
       "      <td>-0.821209</td>\n",
       "      <td>-0.250318</td>\n",
       "      <td>-0.305767</td>\n",
       "      <td>-0.250568</td>\n",
       "      <td>0.0</td>\n",
       "    </tr>\n",
       "    <tr>\n",
       "      <th>...</th>\n",
       "      <td>...</td>\n",
       "      <td>...</td>\n",
       "      <td>...</td>\n",
       "      <td>...</td>\n",
       "      <td>...</td>\n",
       "      <td>...</td>\n",
       "      <td>...</td>\n",
       "      <td>...</td>\n",
       "      <td>...</td>\n",
       "      <td>...</td>\n",
       "      <td>...</td>\n",
       "      <td>...</td>\n",
       "      <td>...</td>\n",
       "      <td>...</td>\n",
       "      <td>...</td>\n",
       "      <td>...</td>\n",
       "      <td>...</td>\n",
       "      <td>...</td>\n",
       "      <td>...</td>\n",
       "      <td>...</td>\n",
       "      <td>...</td>\n",
       "    </tr>\n",
       "    <tr>\n",
       "      <th>897</th>\n",
       "      <td>-0.083690</td>\n",
       "      <td>-0.119329</td>\n",
       "      <td>-0.038897</td>\n",
       "      <td>0.042016</td>\n",
       "      <td>-0.038763</td>\n",
       "      <td>-7.071246</td>\n",
       "      <td>-7.061143</td>\n",
       "      <td>-0.235080</td>\n",
       "      <td>0.407856</td>\n",
       "      <td>-0.234513</td>\n",
       "      <td>...</td>\n",
       "      <td>-0.747256</td>\n",
       "      <td>1.618458</td>\n",
       "      <td>2.067892</td>\n",
       "      <td>1.664508</td>\n",
       "      <td>-0.186423</td>\n",
       "      <td>0.525233</td>\n",
       "      <td>0.023756</td>\n",
       "      <td>0.687085</td>\n",
       "      <td>0.023392</td>\n",
       "      <td>2.5</td>\n",
       "    </tr>\n",
       "    <tr>\n",
       "      <th>898</th>\n",
       "      <td>-0.141768</td>\n",
       "      <td>-0.117586</td>\n",
       "      <td>-0.001722</td>\n",
       "      <td>0.022061</td>\n",
       "      <td>-0.001547</td>\n",
       "      <td>-7.071041</td>\n",
       "      <td>-7.055827</td>\n",
       "      <td>-0.235851</td>\n",
       "      <td>0.383282</td>\n",
       "      <td>-0.235285</td>\n",
       "      <td>...</td>\n",
       "      <td>-4.731489</td>\n",
       "      <td>2.777027</td>\n",
       "      <td>2.503986</td>\n",
       "      <td>2.785224</td>\n",
       "      <td>-0.218506</td>\n",
       "      <td>1.494668</td>\n",
       "      <td>0.346958</td>\n",
       "      <td>1.014308</td>\n",
       "      <td>0.345634</td>\n",
       "      <td>2.5</td>\n",
       "    </tr>\n",
       "    <tr>\n",
       "      <th>899</th>\n",
       "      <td>0.685436</td>\n",
       "      <td>0.033866</td>\n",
       "      <td>2.909161</td>\n",
       "      <td>2.191753</td>\n",
       "      <td>2.909752</td>\n",
       "      <td>-6.675688</td>\n",
       "      <td>-7.023176</td>\n",
       "      <td>1.615553</td>\n",
       "      <td>1.448012</td>\n",
       "      <td>1.617483</td>\n",
       "      <td>...</td>\n",
       "      <td>-0.314639</td>\n",
       "      <td>8.599137</td>\n",
       "      <td>1.848900</td>\n",
       "      <td>8.599015</td>\n",
       "      <td>-4.666282</td>\n",
       "      <td>0.707435</td>\n",
       "      <td>4.673772</td>\n",
       "      <td>3.817541</td>\n",
       "      <td>4.707787</td>\n",
       "      <td>2.5</td>\n",
       "    </tr>\n",
       "    <tr>\n",
       "      <th>900</th>\n",
       "      <td>0.752242</td>\n",
       "      <td>-0.149132</td>\n",
       "      <td>2.838121</td>\n",
       "      <td>2.089799</td>\n",
       "      <td>2.836993</td>\n",
       "      <td>-4.104739</td>\n",
       "      <td>-4.426905</td>\n",
       "      <td>15.740210</td>\n",
       "      <td>-0.700166</td>\n",
       "      <td>15.747353</td>\n",
       "      <td>...</td>\n",
       "      <td>0.624177</td>\n",
       "      <td>8.357835</td>\n",
       "      <td>3.236073</td>\n",
       "      <td>8.378800</td>\n",
       "      <td>-2.230325</td>\n",
       "      <td>0.305455</td>\n",
       "      <td>4.940829</td>\n",
       "      <td>3.491547</td>\n",
       "      <td>5.007725</td>\n",
       "      <td>2.5</td>\n",
       "    </tr>\n",
       "    <tr>\n",
       "      <th>901</th>\n",
       "      <td>-0.152722</td>\n",
       "      <td>-0.354915</td>\n",
       "      <td>0.223914</td>\n",
       "      <td>-0.364357</td>\n",
       "      <td>-0.020152</td>\n",
       "      <td>-1.916145</td>\n",
       "      <td>-1.669206</td>\n",
       "      <td>0.977980</td>\n",
       "      <td>-4.448108</td>\n",
       "      <td>0.358110</td>\n",
       "      <td>...</td>\n",
       "      <td>0.092497</td>\n",
       "      <td>3.094755</td>\n",
       "      <td>1.936148</td>\n",
       "      <td>1.321408</td>\n",
       "      <td>3.389331</td>\n",
       "      <td>2.145211</td>\n",
       "      <td>0.932688</td>\n",
       "      <td>1.030752</td>\n",
       "      <td>0.289102</td>\n",
       "      <td>2.5</td>\n",
       "    </tr>\n",
       "  </tbody>\n",
       "</table>\n",
       "<p>902 rows × 46 columns</p>\n",
       "</div>"
      ],
      "text/plain": [
       "      gx_mean  gx_median  gx_variance    gx_fft  gx_spec_energy   gy_mean  \\\n",
       "0    0.046215   0.058430    -0.220840 -0.229310       -0.220605  0.385255   \n",
       "1   -0.174583  -0.183538    -0.237830 -0.446876       -0.237550  0.400423   \n",
       "2   -0.209093  -0.218446    -0.243878 -0.504801       -0.243634  0.411072   \n",
       "3   -0.223293  -0.183240    -0.233575 -0.462391       -0.233330  0.415867   \n",
       "4   -0.242859  -0.159073    -0.224825 -0.427087       -0.224536  0.413581   \n",
       "..        ...        ...          ...       ...             ...       ...   \n",
       "897 -0.083690  -0.119329    -0.038897  0.042016       -0.038763 -7.071246   \n",
       "898 -0.141768  -0.117586    -0.001722  0.022061       -0.001547 -7.071041   \n",
       "899  0.685436   0.033866     2.909161  2.191753        2.909752 -6.675688   \n",
       "900  0.752242  -0.149132     2.838121  2.089799        2.836993 -4.104739   \n",
       "901 -0.152722  -0.354915     0.223914 -0.364357       -0.020152 -1.916145   \n",
       "\n",
       "     gy_median  gy_variance    gy_fft  gy_spec_energy  ...  wy_median  \\\n",
       "0     0.373062    -0.237299  0.359702       -0.236724  ...  -1.275804   \n",
       "1     0.388720    -0.237515  0.384871       -0.236948  ...   0.784026   \n",
       "2     0.398077    -0.237819  0.392210       -0.237252  ...   0.566364   \n",
       "3     0.403806    -0.237943  0.393427       -0.237376  ...   0.327466   \n",
       "4     0.404761    -0.237771  0.399360       -0.237204  ...   1.851104   \n",
       "..         ...          ...       ...             ...  ...        ...   \n",
       "897  -7.061143    -0.235080  0.407856       -0.234513  ...  -0.747256   \n",
       "898  -7.055827    -0.235851  0.383282       -0.235285  ...  -4.731489   \n",
       "899  -7.023176     1.615553  1.448012        1.617483  ...  -0.314639   \n",
       "900  -4.426905    15.740210 -0.700166       15.747353  ...   0.624177   \n",
       "901  -1.669206     0.977980 -4.448108        0.358110  ...   0.092497   \n",
       "\n",
       "     wy_variance    wy_fft  wy_spec_energy   wz_mean  wz_median  wz_variance  \\\n",
       "0      -0.241437 -0.421834       -0.241703 -0.526301  -0.595596    -0.229148   \n",
       "1      -0.169742 -0.009689       -0.165206 -0.229242  -0.533358    -0.244148   \n",
       "2      -0.187077 -0.017944       -0.188066  0.004644  -0.136590    -0.266644   \n",
       "3      -0.019173  0.562431       -0.019202 -0.515430  -0.517798    -0.288882   \n",
       "4       0.544371  1.628924        0.547799 -0.399662  -0.821209    -0.250318   \n",
       "..           ...       ...             ...       ...        ...          ...   \n",
       "897     1.618458  2.067892        1.664508 -0.186423   0.525233     0.023756   \n",
       "898     2.777027  2.503986        2.785224 -0.218506   1.494668     0.346958   \n",
       "899     8.599137  1.848900        8.599015 -4.666282   0.707435     4.673772   \n",
       "900     8.357835  3.236073        8.378800 -2.230325   0.305455     4.940829   \n",
       "901     3.094755  1.936148        1.321408  3.389331   2.145211     0.932688   \n",
       "\n",
       "       wz_fft  wz_spec_energy  label  \n",
       "0   -0.366775       -0.229310    0.0  \n",
       "1   -0.506583       -0.244439    0.0  \n",
       "2   -0.583725       -0.265907    0.0  \n",
       "3   -0.388326       -0.287477    0.0  \n",
       "4   -0.305767       -0.250568    0.0  \n",
       "..        ...             ...    ...  \n",
       "897  0.687085        0.023392    2.5  \n",
       "898  1.014308        0.345634    2.5  \n",
       "899  3.817541        4.707787    2.5  \n",
       "900  3.491547        5.007725    2.5  \n",
       "901  1.030752        0.289102    2.5  \n",
       "\n",
       "[902 rows x 46 columns]"
      ]
     },
     "execution_count": 5,
     "metadata": {},
     "output_type": "execute_result"
    }
   ],
   "source": [
    "data"
   ]
  },
  {
   "cell_type": "code",
   "execution_count": 6,
   "metadata": {},
   "outputs": [],
   "source": [
    "turi['label'] = turi['label'].apply(lambda x: str(x))"
   ]
  },
  {
   "cell_type": "code",
   "execution_count": 7,
   "metadata": {},
   "outputs": [],
   "source": [
    "train, test = turi.random_split(0.8, seed=0)"
   ]
  },
  {
   "cell_type": "code",
   "execution_count": 8,
   "metadata": {},
   "outputs": [],
   "source": [
    "features = turi.column_names()[:-1]"
   ]
  },
  {
   "cell_type": "code",
   "execution_count": null,
   "metadata": {},
   "outputs": [],
   "source": []
  },
  {
   "cell_type": "code",
   "execution_count": 9,
   "metadata": {},
   "outputs": [
    {
     "name": "stdout",
     "output_type": "stream",
     "text": [
      "PROGRESS: Creating a validation set from 5 percent of training data. This may take a while.\n",
      "          You can set ``validation_set=None`` to disable validation tracking.\n",
      "\n"
     ]
    },
    {
     "data": {
      "text/html": [
       "<pre>Random forest classifier:</pre>"
      ],
      "text/plain": [
       "Random forest classifier:"
      ]
     },
     "metadata": {},
     "output_type": "display_data"
    },
    {
     "data": {
      "text/html": [
       "<pre>--------------------------------------------------------</pre>"
      ],
      "text/plain": [
       "--------------------------------------------------------"
      ]
     },
     "metadata": {},
     "output_type": "display_data"
    },
    {
     "data": {
      "text/html": [
       "<pre>Number of examples          : 676</pre>"
      ],
      "text/plain": [
       "Number of examples          : 676"
      ]
     },
     "metadata": {},
     "output_type": "display_data"
    },
    {
     "data": {
      "text/html": [
       "<pre>Number of classes           : 4</pre>"
      ],
      "text/plain": [
       "Number of classes           : 4"
      ]
     },
     "metadata": {},
     "output_type": "display_data"
    },
    {
     "data": {
      "text/html": [
       "<pre>Number of feature columns   : 45</pre>"
      ],
      "text/plain": [
       "Number of feature columns   : 45"
      ]
     },
     "metadata": {},
     "output_type": "display_data"
    },
    {
     "data": {
      "text/html": [
       "<pre>Number of unpacked features : 45</pre>"
      ],
      "text/plain": [
       "Number of unpacked features : 45"
      ]
     },
     "metadata": {},
     "output_type": "display_data"
    },
    {
     "data": {
      "text/html": [
       "<pre>+-----------+--------------+-------------------+---------------------+-------------------+---------------------+</pre>"
      ],
      "text/plain": [
       "+-----------+--------------+-------------------+---------------------+-------------------+---------------------+"
      ]
     },
     "metadata": {},
     "output_type": "display_data"
    },
    {
     "data": {
      "text/html": [
       "<pre>| Iteration | Elapsed Time | Training Accuracy | Validation Accuracy | Training Log Loss | Validation Log Loss |</pre>"
      ],
      "text/plain": [
       "| Iteration | Elapsed Time | Training Accuracy | Validation Accuracy | Training Log Loss | Validation Log Loss |"
      ]
     },
     "metadata": {},
     "output_type": "display_data"
    },
    {
     "data": {
      "text/html": [
       "<pre>+-----------+--------------+-------------------+---------------------+-------------------+---------------------+</pre>"
      ],
      "text/plain": [
       "+-----------+--------------+-------------------+---------------------+-------------------+---------------------+"
      ]
     },
     "metadata": {},
     "output_type": "display_data"
    },
    {
     "data": {
      "text/html": [
       "<pre>| 1         | 0.031261     | 0.998521          | 0.888889            | 0.221000          | 0.381171            |</pre>"
      ],
      "text/plain": [
       "| 1         | 0.031261     | 0.998521          | 0.888889            | 0.221000          | 0.381171            |"
      ]
     },
     "metadata": {},
     "output_type": "display_data"
    },
    {
     "data": {
      "text/html": [
       "<pre>| 2         | 0.060166     | 0.998521          | 0.916667            | 0.221076          | 0.383348            |</pre>"
      ],
      "text/plain": [
       "| 2         | 0.060166     | 0.998521          | 0.916667            | 0.221076          | 0.383348            |"
      ]
     },
     "metadata": {},
     "output_type": "display_data"
    },
    {
     "data": {
      "text/html": [
       "<pre>| 3         | 0.096124     | 0.998521          | 0.888889            | 0.220990          | 0.379087            |</pre>"
      ],
      "text/plain": [
       "| 3         | 0.096124     | 0.998521          | 0.888889            | 0.220990          | 0.379087            |"
      ]
     },
     "metadata": {},
     "output_type": "display_data"
    },
    {
     "data": {
      "text/html": [
       "<pre>| 4         | 0.118330     | 1.000000          | 0.888889            | 0.220011          | 0.381497            |</pre>"
      ],
      "text/plain": [
       "| 4         | 0.118330     | 1.000000          | 0.888889            | 0.220011          | 0.381497            |"
      ]
     },
     "metadata": {},
     "output_type": "display_data"
    },
    {
     "data": {
      "text/html": [
       "<pre>| 5         | 0.139414     | 1.000000          | 0.916667            | 0.219175          | 0.359144            |</pre>"
      ],
      "text/plain": [
       "| 5         | 0.139414     | 1.000000          | 0.916667            | 0.219175          | 0.359144            |"
      ]
     },
     "metadata": {},
     "output_type": "display_data"
    },
    {
     "data": {
      "text/html": [
       "<pre>| 10        | 0.229185     | 1.000000          | 0.916667            | 0.217744          | 0.344533            |</pre>"
      ],
      "text/plain": [
       "| 10        | 0.229185     | 1.000000          | 0.916667            | 0.217744          | 0.344533            |"
      ]
     },
     "metadata": {},
     "output_type": "display_data"
    },
    {
     "data": {
      "text/html": [
       "<pre>+-----------+--------------+-------------------+---------------------+-------------------+---------------------+</pre>"
      ],
      "text/plain": [
       "+-----------+--------------+-------------------+---------------------+-------------------+---------------------+"
      ]
     },
     "metadata": {},
     "output_type": "display_data"
    }
   ],
   "source": [
    "model = turicreate.random_forest_classifier.create(train, features = features, target='label')"
   ]
  },
  {
   "cell_type": "code",
   "execution_count": 10,
   "metadata": {},
   "outputs": [
    {
     "data": {
      "text/plain": [
       "{'accuracy': 1.0,\n",
       " 'auc': 0.9998614344307721,\n",
       " 'confusion_matrix': Columns:\n",
       " \ttarget_label\tstr\n",
       " \tpredicted_label\tstr\n",
       " \tcount\tint\n",
       " \n",
       " Rows: 4\n",
       " \n",
       " Data:\n",
       " +--------------+-----------------+-------+\n",
       " | target_label | predicted_label | count |\n",
       " +--------------+-----------------+-------+\n",
       " |     0.19     |       0.19      |   51  |\n",
       " |     0.0      |       0.0       |   18  |\n",
       " |     2.5      |       2.5       |   28  |\n",
       " |     4.5      |       4.5       |   93  |\n",
       " +--------------+-----------------+-------+\n",
       " [4 rows x 3 columns],\n",
       " 'f1_score': 1.0,\n",
       " 'log_loss': 0.25720306985830865,\n",
       " 'precision': 1.0,\n",
       " 'recall': 1.0,\n",
       " 'roc_curve': Columns:\n",
       " \tthreshold\tfloat\n",
       " \tfpr\tfloat\n",
       " \ttpr\tfloat\n",
       " \tp\tint\n",
       " \tn\tint\n",
       " \tclass\tint\n",
       " \n",
       " Rows: 400004\n",
       " \n",
       " Data:\n",
       " +-----------+-----+-----+----+-----+-------+\n",
       " | threshold | fpr | tpr | p  |  n  | class |\n",
       " +-----------+-----+-----+----+-----+-------+\n",
       " |    0.0    | 1.0 | 1.0 | 18 | 172 |   0   |\n",
       " |   1e-05   | 1.0 | 1.0 | 18 | 172 |   0   |\n",
       " |   2e-05   | 1.0 | 1.0 | 18 | 172 |   0   |\n",
       " |   3e-05   | 1.0 | 1.0 | 18 | 172 |   0   |\n",
       " |   4e-05   | 1.0 | 1.0 | 18 | 172 |   0   |\n",
       " |   5e-05   | 1.0 | 1.0 | 18 | 172 |   0   |\n",
       " |   6e-05   | 1.0 | 1.0 | 18 | 172 |   0   |\n",
       " |   7e-05   | 1.0 | 1.0 | 18 | 172 |   0   |\n",
       " |   8e-05   | 1.0 | 1.0 | 18 | 172 |   0   |\n",
       " |   9e-05   | 1.0 | 1.0 | 18 | 172 |   0   |\n",
       " +-----------+-----+-----+----+-----+-------+\n",
       " [400004 rows x 6 columns]\n",
       " Note: Only the head of the SFrame is printed.\n",
       " You can use print_rows(num_rows=m, num_columns=n) to print more rows and columns.}"
      ]
     },
     "execution_count": 10,
     "metadata": {},
     "output_type": "execute_result"
    }
   ],
   "source": [
    "model.evaluate(test)"
   ]
  },
  {
   "cell_type": "code",
   "execution_count": 11,
   "metadata": {},
   "outputs": [
    {
     "data": {
      "text/html": [
       "<pre>Boosted trees classifier:</pre>"
      ],
      "text/plain": [
       "Boosted trees classifier:"
      ]
     },
     "metadata": {},
     "output_type": "display_data"
    },
    {
     "data": {
      "text/html": [
       "<pre>--------------------------------------------------------</pre>"
      ],
      "text/plain": [
       "--------------------------------------------------------"
      ]
     },
     "metadata": {},
     "output_type": "display_data"
    },
    {
     "data": {
      "text/html": [
       "<pre>Number of examples          : 712</pre>"
      ],
      "text/plain": [
       "Number of examples          : 712"
      ]
     },
     "metadata": {},
     "output_type": "display_data"
    },
    {
     "data": {
      "text/html": [
       "<pre>Number of classes           : 4</pre>"
      ],
      "text/plain": [
       "Number of classes           : 4"
      ]
     },
     "metadata": {},
     "output_type": "display_data"
    },
    {
     "data": {
      "text/html": [
       "<pre>Number of feature columns   : 45</pre>"
      ],
      "text/plain": [
       "Number of feature columns   : 45"
      ]
     },
     "metadata": {},
     "output_type": "display_data"
    },
    {
     "data": {
      "text/html": [
       "<pre>Number of unpacked features : 45</pre>"
      ],
      "text/plain": [
       "Number of unpacked features : 45"
      ]
     },
     "metadata": {},
     "output_type": "display_data"
    },
    {
     "data": {
      "text/html": [
       "<pre>+-----------+--------------+-------------------+-------------------+</pre>"
      ],
      "text/plain": [
       "+-----------+--------------+-------------------+-------------------+"
      ]
     },
     "metadata": {},
     "output_type": "display_data"
    },
    {
     "data": {
      "text/html": [
       "<pre>| Iteration | Elapsed Time | Training Accuracy | Training Log Loss |</pre>"
      ],
      "text/plain": [
       "| Iteration | Elapsed Time | Training Accuracy | Training Log Loss |"
      ]
     },
     "metadata": {},
     "output_type": "display_data"
    },
    {
     "data": {
      "text/html": [
       "<pre>+-----------+--------------+-------------------+-------------------+</pre>"
      ],
      "text/plain": [
       "+-----------+--------------+-------------------+-------------------+"
      ]
     },
     "metadata": {},
     "output_type": "display_data"
    },
    {
     "data": {
      "text/html": [
       "<pre>| 1         | 0.037671     | 1.000000          | 0.869128          |</pre>"
      ],
      "text/plain": [
       "| 1         | 0.037671     | 1.000000          | 0.869128          |"
      ]
     },
     "metadata": {},
     "output_type": "display_data"
    },
    {
     "data": {
      "text/html": [
       "<pre>| 2         | 0.075213     | 1.000000          | 0.597680          |</pre>"
      ],
      "text/plain": [
       "| 2         | 0.075213     | 1.000000          | 0.597680          |"
      ]
     },
     "metadata": {},
     "output_type": "display_data"
    },
    {
     "data": {
      "text/html": [
       "<pre>| 3         | 0.110133     | 1.000000          | 0.424810          |</pre>"
      ],
      "text/plain": [
       "| 3         | 0.110133     | 1.000000          | 0.424810          |"
      ]
     },
     "metadata": {},
     "output_type": "display_data"
    },
    {
     "data": {
      "text/html": [
       "<pre>| 4         | 0.155593     | 1.000000          | 0.307516          |</pre>"
      ],
      "text/plain": [
       "| 4         | 0.155593     | 1.000000          | 0.307516          |"
      ]
     },
     "metadata": {},
     "output_type": "display_data"
    },
    {
     "data": {
      "text/html": [
       "<pre>| 5         | 0.175684     | 1.000000          | 0.225206          |</pre>"
      ],
      "text/plain": [
       "| 5         | 0.175684     | 1.000000          | 0.225206          |"
      ]
     },
     "metadata": {},
     "output_type": "display_data"
    },
    {
     "data": {
      "text/html": [
       "<pre>| 10        | 0.278564     | 1.000000          | 0.052910          |</pre>"
      ],
      "text/plain": [
       "| 10        | 0.278564     | 1.000000          | 0.052910          |"
      ]
     },
     "metadata": {},
     "output_type": "display_data"
    },
    {
     "data": {
      "text/html": [
       "<pre>+-----------+--------------+-------------------+-------------------+</pre>"
      ],
      "text/plain": [
       "+-----------+--------------+-------------------+-------------------+"
      ]
     },
     "metadata": {},
     "output_type": "display_data"
    }
   ],
   "source": [
    "# training using boosted trees\n",
    "modelB  = turicreate.boosted_trees_classifier.create(train, features=features, target='label', validation_set=None)"
   ]
  },
  {
   "cell_type": "code",
   "execution_count": 12,
   "metadata": {},
   "outputs": [
    {
     "data": {
      "text/plain": [
       "{'accuracy': 0.9947368421052631,\n",
       " 'auc': 0.9998740419624624,\n",
       " 'confusion_matrix': Columns:\n",
       " \ttarget_label\tstr\n",
       " \tpredicted_label\tstr\n",
       " \tcount\tint\n",
       " \n",
       " Rows: 5\n",
       " \n",
       " Data:\n",
       " +--------------+-----------------+-------+\n",
       " | target_label | predicted_label | count |\n",
       " +--------------+-----------------+-------+\n",
       " |     0.19     |       4.5       |   1   |\n",
       " |     0.19     |       0.19      |   50  |\n",
       " |     0.0      |       0.0       |   18  |\n",
       " |     2.5      |       2.5       |   28  |\n",
       " |     4.5      |       4.5       |   93  |\n",
       " +--------------+-----------------+-------+\n",
       " [5 rows x 3 columns],\n",
       " 'f1_score': 0.9961878540795256,\n",
       " 'log_loss': 0.09929726943416256,\n",
       " 'precision': 0.9973404255319149,\n",
       " 'recall': 0.9950980392156863,\n",
       " 'roc_curve': Columns:\n",
       " \tthreshold\tfloat\n",
       " \tfpr\tfloat\n",
       " \ttpr\tfloat\n",
       " \tp\tint\n",
       " \tn\tint\n",
       " \tclass\tint\n",
       " \n",
       " Rows: 400004\n",
       " \n",
       " Data:\n",
       " +-----------+-----+-----+----+-----+-------+\n",
       " | threshold | fpr | tpr | p  |  n  | class |\n",
       " +-----------+-----+-----+----+-----+-------+\n",
       " |    0.0    | 1.0 | 1.0 | 18 | 172 |   0   |\n",
       " |   1e-05   | 1.0 | 1.0 | 18 | 172 |   0   |\n",
       " |   2e-05   | 1.0 | 1.0 | 18 | 172 |   0   |\n",
       " |   3e-05   | 1.0 | 1.0 | 18 | 172 |   0   |\n",
       " |   4e-05   | 1.0 | 1.0 | 18 | 172 |   0   |\n",
       " |   5e-05   | 1.0 | 1.0 | 18 | 172 |   0   |\n",
       " |   6e-05   | 1.0 | 1.0 | 18 | 172 |   0   |\n",
       " |   7e-05   | 1.0 | 1.0 | 18 | 172 |   0   |\n",
       " |   8e-05   | 1.0 | 1.0 | 18 | 172 |   0   |\n",
       " |   9e-05   | 1.0 | 1.0 | 18 | 172 |   0   |\n",
       " +-----------+-----+-----+----+-----+-------+\n",
       " [400004 rows x 6 columns]\n",
       " Note: Only the head of the SFrame is printed.\n",
       " You can use print_rows(num_rows=m, num_columns=n) to print more rows and columns.}"
      ]
     },
     "execution_count": 12,
     "metadata": {},
     "output_type": "execute_result"
    }
   ],
   "source": [
    "modelB.evaluate(test)"
   ]
  },
  {
   "cell_type": "code",
   "execution_count": null,
   "metadata": {},
   "outputs": [],
   "source": []
  },
  {
   "cell_type": "code",
   "execution_count": null,
   "metadata": {},
   "outputs": [],
   "source": []
  },
  {
   "cell_type": "code",
   "execution_count": null,
   "metadata": {},
   "outputs": [],
   "source": []
  },
  {
   "cell_type": "code",
   "execution_count": null,
   "metadata": {},
   "outputs": [],
   "source": []
  },
  {
   "cell_type": "code",
   "execution_count": null,
   "metadata": {},
   "outputs": [],
   "source": []
  },
  {
   "cell_type": "code",
   "execution_count": null,
   "metadata": {},
   "outputs": [],
   "source": [
    "# testing with different splits of data"
   ]
  },
  {
   "cell_type": "code",
   "execution_count": 36,
   "metadata": {},
   "outputs": [],
   "source": [
    "t1, t2 = turi.random_split(.5,seed=1)"
   ]
  },
  {
   "cell_type": "code",
   "execution_count": 37,
   "metadata": {},
   "outputs": [
    {
     "data": {
      "text/plain": [
       "{'accuracy': 0.9978586723768736,\n",
       " 'auc': 0.9999826089506587,\n",
       " 'confusion_matrix': Columns:\n",
       " \ttarget_label\tstr\n",
       " \tpredicted_label\tstr\n",
       " \tcount\tint\n",
       " \n",
       " Rows: 5\n",
       " \n",
       " Data:\n",
       " +--------------+-----------------+-------+\n",
       " | target_label | predicted_label | count |\n",
       " +--------------+-----------------+-------+\n",
       " |     0.19     |       2.5       |   1   |\n",
       " |     0.19     |       0.19      |  103  |\n",
       " |     0.0      |       0.0       |   70  |\n",
       " |     2.5      |       2.5       |   79  |\n",
       " |     4.5      |       4.5       |  214  |\n",
       " +--------------+-----------------+-------+\n",
       " [5 rows x 3 columns],\n",
       " 'f1_score': 0.9972199434873759,\n",
       " 'log_loss': 0.22757323102697335,\n",
       " 'precision': 0.996875,\n",
       " 'recall': 0.9975961538461539,\n",
       " 'roc_curve': Columns:\n",
       " \tthreshold\tfloat\n",
       " \tfpr\tfloat\n",
       " \ttpr\tfloat\n",
       " \tp\tint\n",
       " \tn\tint\n",
       " \tclass\tint\n",
       " \n",
       " Rows: 400004\n",
       " \n",
       " Data:\n",
       " +-----------+-----+-----+----+-----+-------+\n",
       " | threshold | fpr | tpr | p  |  n  | class |\n",
       " +-----------+-----+-----+----+-----+-------+\n",
       " |    0.0    | 1.0 | 1.0 | 70 | 397 |   0   |\n",
       " |   1e-05   | 1.0 | 1.0 | 70 | 397 |   0   |\n",
       " |   2e-05   | 1.0 | 1.0 | 70 | 397 |   0   |\n",
       " |   3e-05   | 1.0 | 1.0 | 70 | 397 |   0   |\n",
       " |   4e-05   | 1.0 | 1.0 | 70 | 397 |   0   |\n",
       " |   5e-05   | 1.0 | 1.0 | 70 | 397 |   0   |\n",
       " |   6e-05   | 1.0 | 1.0 | 70 | 397 |   0   |\n",
       " |   7e-05   | 1.0 | 1.0 | 70 | 397 |   0   |\n",
       " |   8e-05   | 1.0 | 1.0 | 70 | 397 |   0   |\n",
       " |   9e-05   | 1.0 | 1.0 | 70 | 397 |   0   |\n",
       " +-----------+-----+-----+----+-----+-------+\n",
       " [400004 rows x 6 columns]\n",
       " Note: Only the head of the SFrame is printed.\n",
       " You can use print_rows(num_rows=m, num_columns=n) to print more rows and columns.}"
      ]
     },
     "execution_count": 37,
     "metadata": {},
     "output_type": "execute_result"
    }
   ],
   "source": [
    "model.evaluate(t1)"
   ]
  },
  {
   "cell_type": "code",
   "execution_count": 38,
   "metadata": {},
   "outputs": [
    {
     "data": {
      "text/plain": [
       "{'accuracy': 1.0,\n",
       " 'auc': 0.9999999999999999,\n",
       " 'confusion_matrix': Columns:\n",
       " \ttarget_label\tstr\n",
       " \tpredicted_label\tstr\n",
       " \tcount\tint\n",
       " \n",
       " Rows: 4\n",
       " \n",
       " Data:\n",
       " +--------------+-----------------+-------+\n",
       " | target_label | predicted_label | count |\n",
       " +--------------+-----------------+-------+\n",
       " |     0.19     |       0.19      |  110  |\n",
       " |     0.0      |       0.0       |   70  |\n",
       " |     2.5      |       2.5       |   61  |\n",
       " |     4.5      |       4.5       |  194  |\n",
       " +--------------+-----------------+-------+\n",
       " [4 rows x 3 columns],\n",
       " 'f1_score': 1.0,\n",
       " 'log_loss': 0.22982716783035564,\n",
       " 'precision': 1.0,\n",
       " 'recall': 1.0,\n",
       " 'roc_curve': Columns:\n",
       " \tthreshold\tfloat\n",
       " \tfpr\tfloat\n",
       " \ttpr\tfloat\n",
       " \tp\tint\n",
       " \tn\tint\n",
       " \tclass\tint\n",
       " \n",
       " Rows: 400004\n",
       " \n",
       " Data:\n",
       " +-----------+-----+-----+----+-----+-------+\n",
       " | threshold | fpr | tpr | p  |  n  | class |\n",
       " +-----------+-----+-----+----+-----+-------+\n",
       " |    0.0    | 1.0 | 1.0 | 70 | 365 |   0   |\n",
       " |   1e-05   | 1.0 | 1.0 | 70 | 365 |   0   |\n",
       " |   2e-05   | 1.0 | 1.0 | 70 | 365 |   0   |\n",
       " |   3e-05   | 1.0 | 1.0 | 70 | 365 |   0   |\n",
       " |   4e-05   | 1.0 | 1.0 | 70 | 365 |   0   |\n",
       " |   5e-05   | 1.0 | 1.0 | 70 | 365 |   0   |\n",
       " |   6e-05   | 1.0 | 1.0 | 70 | 365 |   0   |\n",
       " |   7e-05   | 1.0 | 1.0 | 70 | 365 |   0   |\n",
       " |   8e-05   | 1.0 | 1.0 | 70 | 365 |   0   |\n",
       " |   9e-05   | 1.0 | 1.0 | 70 | 365 |   0   |\n",
       " +-----------+-----+-----+----+-----+-------+\n",
       " [400004 rows x 6 columns]\n",
       " Note: Only the head of the SFrame is printed.\n",
       " You can use print_rows(num_rows=m, num_columns=n) to print more rows and columns.}"
      ]
     },
     "execution_count": 38,
     "metadata": {},
     "output_type": "execute_result"
    }
   ],
   "source": [
    "model.evaluate(t2)"
   ]
  },
  {
   "cell_type": "code",
   "execution_count": 39,
   "metadata": {},
   "outputs": [],
   "source": [
    "t1, t2 = turi.random_split(.5,seed=4)"
   ]
  },
  {
   "cell_type": "code",
   "execution_count": 40,
   "metadata": {},
   "outputs": [
    {
     "data": {
      "text/plain": [
       "{'accuracy': 0.9978813559322034,\n",
       " 'auc': 0.9999920280612233,\n",
       " 'confusion_matrix': Columns:\n",
       " \ttarget_label\tstr\n",
       " \tpredicted_label\tstr\n",
       " \tcount\tint\n",
       " \n",
       " Rows: 5\n",
       " \n",
       " Data:\n",
       " +--------------+-----------------+-------+\n",
       " | target_label | predicted_label | count |\n",
       " +--------------+-----------------+-------+\n",
       " |     0.19     |       2.5       |   1   |\n",
       " |     0.19     |       0.19      |  111  |\n",
       " |     0.0      |       0.0       |   70  |\n",
       " |     2.5      |       2.5       |   80  |\n",
       " |     4.5      |       4.5       |  210  |\n",
       " +--------------+-----------------+-------+\n",
       " [5 rows x 3 columns],\n",
       " 'f1_score': 0.9973261287357602,\n",
       " 'log_loss': 0.23249476689479823,\n",
       " 'precision': 0.9969135802469136,\n",
       " 'recall': 0.9977678571428572,\n",
       " 'roc_curve': Columns:\n",
       " \tthreshold\tfloat\n",
       " \tfpr\tfloat\n",
       " \ttpr\tfloat\n",
       " \tp\tint\n",
       " \tn\tint\n",
       " \tclass\tint\n",
       " \n",
       " Rows: 400004\n",
       " \n",
       " Data:\n",
       " +-----------+-----+-----+----+-----+-------+\n",
       " | threshold | fpr | tpr | p  |  n  | class |\n",
       " +-----------+-----+-----+----+-----+-------+\n",
       " |    0.0    | 1.0 | 1.0 | 70 | 402 |   0   |\n",
       " |   1e-05   | 1.0 | 1.0 | 70 | 402 |   0   |\n",
       " |   2e-05   | 1.0 | 1.0 | 70 | 402 |   0   |\n",
       " |   3e-05   | 1.0 | 1.0 | 70 | 402 |   0   |\n",
       " |   4e-05   | 1.0 | 1.0 | 70 | 402 |   0   |\n",
       " |   5e-05   | 1.0 | 1.0 | 70 | 402 |   0   |\n",
       " |   6e-05   | 1.0 | 1.0 | 70 | 402 |   0   |\n",
       " |   7e-05   | 1.0 | 1.0 | 70 | 402 |   0   |\n",
       " |   8e-05   | 1.0 | 1.0 | 70 | 402 |   0   |\n",
       " |   9e-05   | 1.0 | 1.0 | 70 | 402 |   0   |\n",
       " +-----------+-----+-----+----+-----+-------+\n",
       " [400004 rows x 6 columns]\n",
       " Note: Only the head of the SFrame is printed.\n",
       " You can use print_rows(num_rows=m, num_columns=n) to print more rows and columns.}"
      ]
     },
     "execution_count": 40,
     "metadata": {},
     "output_type": "execute_result"
    }
   ],
   "source": [
    "model.evaluate(t1)"
   ]
  },
  {
   "cell_type": "code",
   "execution_count": 41,
   "metadata": {},
   "outputs": [
    {
     "data": {
      "text/plain": [
       "{'accuracy': 1.0,\n",
       " 'auc': 0.9999945576454186,\n",
       " 'confusion_matrix': Columns:\n",
       " \ttarget_label\tstr\n",
       " \tpredicted_label\tstr\n",
       " \tcount\tint\n",
       " \n",
       " Rows: 4\n",
       " \n",
       " Data:\n",
       " +--------------+-----------------+-------+\n",
       " | target_label | predicted_label | count |\n",
       " +--------------+-----------------+-------+\n",
       " |     0.19     |       0.19      |  102  |\n",
       " |     0.0      |       0.0       |   70  |\n",
       " |     2.5      |       2.5       |   60  |\n",
       " |     4.5      |       4.5       |  198  |\n",
       " +--------------+-----------------+-------+\n",
       " [4 rows x 3 columns],\n",
       " 'f1_score': 1.0,\n",
       " 'log_loss': 0.22445113237548014,\n",
       " 'precision': 1.0,\n",
       " 'recall': 1.0,\n",
       " 'roc_curve': Columns:\n",
       " \tthreshold\tfloat\n",
       " \tfpr\tfloat\n",
       " \ttpr\tfloat\n",
       " \tp\tint\n",
       " \tn\tint\n",
       " \tclass\tint\n",
       " \n",
       " Rows: 400004\n",
       " \n",
       " Data:\n",
       " +-----------+-----+-----+----+-----+-------+\n",
       " | threshold | fpr | tpr | p  |  n  | class |\n",
       " +-----------+-----+-----+----+-----+-------+\n",
       " |    0.0    | 1.0 | 1.0 | 70 | 360 |   0   |\n",
       " |   1e-05   | 1.0 | 1.0 | 70 | 360 |   0   |\n",
       " |   2e-05   | 1.0 | 1.0 | 70 | 360 |   0   |\n",
       " |   3e-05   | 1.0 | 1.0 | 70 | 360 |   0   |\n",
       " |   4e-05   | 1.0 | 1.0 | 70 | 360 |   0   |\n",
       " |   5e-05   | 1.0 | 1.0 | 70 | 360 |   0   |\n",
       " |   6e-05   | 1.0 | 1.0 | 70 | 360 |   0   |\n",
       " |   7e-05   | 1.0 | 1.0 | 70 | 360 |   0   |\n",
       " |   8e-05   | 1.0 | 1.0 | 70 | 360 |   0   |\n",
       " |   9e-05   | 1.0 | 1.0 | 70 | 360 |   0   |\n",
       " +-----------+-----+-----+----+-----+-------+\n",
       " [400004 rows x 6 columns]\n",
       " Note: Only the head of the SFrame is printed.\n",
       " You can use print_rows(num_rows=m, num_columns=n) to print more rows and columns.}"
      ]
     },
     "execution_count": 41,
     "metadata": {},
     "output_type": "execute_result"
    }
   ],
   "source": [
    "model.evaluate(t2)"
   ]
  },
  {
   "cell_type": "code",
   "execution_count": null,
   "metadata": {},
   "outputs": [],
   "source": []
  }
 ],
 "metadata": {
  "kernelspec": {
   "display_name": "Python 3",
   "language": "python",
   "name": "python3"
  },
  "language_info": {
   "codemirror_mode": {
    "name": "ipython",
    "version": 3
   },
   "file_extension": ".py",
   "mimetype": "text/x-python",
   "name": "python",
   "nbconvert_exporter": "python",
   "pygments_lexer": "ipython3",
   "version": "3.6.10"
  }
 },
 "nbformat": 4,
 "nbformat_minor": 4
}
