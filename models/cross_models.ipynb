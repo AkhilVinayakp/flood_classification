{
 "cells": [
  {
   "cell_type": "code",
   "execution_count": 1,
   "metadata": {},
   "outputs": [],
   "source": [
    "import numpy as np\n",
    "import pandas as pd\n",
    "from sklearn.model_selection import train_test_split, KFold, cross_val_score"
   ]
  },
  {
   "cell_type": "code",
   "execution_count": 2,
   "metadata": {},
   "outputs": [],
   "source": [
    "from sklearn.metrics import confusion_matrix, classification_report, accuracy_score\n",
    "from sklearn.svm import SVC"
   ]
  },
  {
   "cell_type": "code",
   "execution_count": 3,
   "metadata": {},
   "outputs": [],
   "source": [
    "data = pd.read_csv('../data/std_data.csv')"
   ]
  },
  {
   "cell_type": "code",
   "execution_count": 4,
   "metadata": {},
   "outputs": [],
   "source": [
    "x = data.iloc[:,:-1].values\n",
    "y = data.iloc[:,-1].apply(lambda x: str(x)).values"
   ]
  },
  {
   "cell_type": "code",
   "execution_count": 5,
   "metadata": {},
   "outputs": [],
   "source": [
    "kf5 = KFold(n_splits= 5, shuffle= False)\n",
    "kf5sh = KFold(n_splits= 5, shuffle= True, random_state= 42)"
   ]
  },
  {
   "cell_type": "code",
   "execution_count": 6,
   "metadata": {},
   "outputs": [],
   "source": [
    "# using the svc model"
   ]
  },
  {
   "cell_type": "code",
   "execution_count": 7,
   "metadata": {},
   "outputs": [],
   "source": [
    "model_svm = SVC(C=3.0, kernel='linear')"
   ]
  },
  {
   "cell_type": "code",
   "execution_count": null,
   "metadata": {},
   "outputs": [],
   "source": []
  },
  {
   "cell_type": "code",
   "execution_count": 8,
   "metadata": {},
   "outputs": [
    {
     "name": "stdout",
     "output_type": "stream",
     "text": [
      "________________ ** 1 ** ____________________\n",
      "[[30  0  0  1]\n",
      " [ 0 43  0  0]\n",
      " [ 0  0 27  0]\n",
      " [ 0  0  0 80]]\n",
      "              precision    recall  f1-score   support\n",
      "\n",
      "         0.0       1.00      0.97      0.98        31\n",
      "        0.19       1.00      1.00      1.00        43\n",
      "         2.5       1.00      1.00      1.00        27\n",
      "         4.5       0.99      1.00      0.99        80\n",
      "\n",
      "    accuracy                           0.99       181\n",
      "   macro avg       1.00      0.99      0.99       181\n",
      "weighted avg       0.99      0.99      0.99       181\n",
      "\n",
      "0.994475138121547\n",
      "________________ ** 2 ** ____________________\n",
      "[[27  0  0  0]\n",
      " [ 0 44  0  0]\n",
      " [ 0  0 29  0]\n",
      " [ 0  3  0 78]]\n",
      "              precision    recall  f1-score   support\n",
      "\n",
      "         0.0       1.00      1.00      1.00        27\n",
      "        0.19       0.94      1.00      0.97        44\n",
      "         2.5       1.00      1.00      1.00        29\n",
      "         4.5       1.00      0.96      0.98        81\n",
      "\n",
      "    accuracy                           0.98       181\n",
      "   macro avg       0.98      0.99      0.99       181\n",
      "weighted avg       0.98      0.98      0.98       181\n",
      "\n",
      "0.9834254143646409\n",
      "________________ ** 3 ** ____________________\n",
      "[[31  0  0  1]\n",
      " [ 0 48  0  0]\n",
      " [ 0  0 24  0]\n",
      " [ 0  0  0 76]]\n",
      "              precision    recall  f1-score   support\n",
      "\n",
      "         0.0       1.00      0.97      0.98        32\n",
      "        0.19       1.00      1.00      1.00        48\n",
      "         2.5       1.00      1.00      1.00        24\n",
      "         4.5       0.99      1.00      0.99        76\n",
      "\n",
      "    accuracy                           0.99       180\n",
      "   macro avg       1.00      0.99      0.99       180\n",
      "weighted avg       0.99      0.99      0.99       180\n",
      "\n",
      "0.9944444444444445\n",
      "________________ ** 4 ** ____________________\n",
      "[[18  0  0  0]\n",
      " [ 0 42  0  0]\n",
      " [ 0  0 32  0]\n",
      " [ 0  1  0 87]]\n",
      "              precision    recall  f1-score   support\n",
      "\n",
      "         0.0       1.00      1.00      1.00        18\n",
      "        0.19       0.98      1.00      0.99        42\n",
      "         2.5       1.00      1.00      1.00        32\n",
      "         4.5       1.00      0.99      0.99        88\n",
      "\n",
      "    accuracy                           0.99       180\n",
      "   macro avg       0.99      1.00      1.00       180\n",
      "weighted avg       0.99      0.99      0.99       180\n",
      "\n",
      "0.9944444444444445\n",
      "________________ ** 5 ** ____________________\n",
      "[[32  0  0  0]\n",
      " [ 0 37  0  0]\n",
      " [ 0  0 28  0]\n",
      " [ 0  0  0 83]]\n",
      "              precision    recall  f1-score   support\n",
      "\n",
      "         0.0       1.00      1.00      1.00        32\n",
      "        0.19       1.00      1.00      1.00        37\n",
      "         2.5       1.00      1.00      1.00        28\n",
      "         4.5       1.00      1.00      1.00        83\n",
      "\n",
      "    accuracy                           1.00       180\n",
      "   macro avg       1.00      1.00      1.00       180\n",
      "weighted avg       1.00      1.00      1.00       180\n",
      "\n",
      "1.0\n",
      "average accuracy :0.9933578882750155\n"
     ]
    }
   ],
   "source": [
    "# applying the 5 fold cross validation\n",
    "i = 1\n",
    "acc_svm = []\n",
    "for train_index, test_index in kf5sh.split(x):\n",
    "#     print(\"TRAIN:\", train_index, \"TEST:\", test_index)\n",
    "    X_train, X_test = x[train_index], x[test_index]\n",
    "    Y_train, Y_test = y[train_index], y[test_index]\n",
    "    model_svm.fit(X_train,Y_train)\n",
    "    y_pred = model_svm.predict(X_test)\n",
    "    print(\"________________ ** {} ** ____________________\".format(i))\n",
    "    print(confusion_matrix(Y_test,y_pred))\n",
    "    print(classification_report(Y_test,y_pred))\n",
    "    print(accuracy_score(Y_test, y_pred))\n",
    "    acc_svm.append(accuracy_score(Y_test, y_pred))\n",
    "    i = i+1\n",
    "    \n",
    "print(\"average accuracy :{}\".format(np.average(acc_svm)))"
   ]
  },
  {
   "cell_type": "code",
   "execution_count": 9,
   "metadata": {},
   "outputs": [
    {
     "data": {
      "text/plain": [
       "array([0.98342541, 0.97790055, 0.98888889, 1.        , 0.99444444])"
      ]
     },
     "execution_count": 9,
     "metadata": {},
     "output_type": "execute_result"
    }
   ],
   "source": [
    "cross_val_score(model_svm, x , y)"
   ]
  },
  {
   "cell_type": "code",
   "execution_count": 10,
   "metadata": {},
   "outputs": [
    {
     "data": {
      "text/plain": [
       "0.9889318600368323"
      ]
     },
     "execution_count": 10,
     "metadata": {},
     "output_type": "execute_result"
    }
   ],
   "source": [
    "np.average(cross_val_score(model_svm, x , y))"
   ]
  },
  {
   "cell_type": "code",
   "execution_count": 11,
   "metadata": {},
   "outputs": [],
   "source": [
    "#  using random Forest\n",
    "from sklearn.ensemble import RandomForestClassifier"
   ]
  },
  {
   "cell_type": "code",
   "execution_count": 12,
   "metadata": {},
   "outputs": [],
   "source": [
    "model_rf = RandomForestClassifier(n_estimators=30,criterion='entropy',max_depth=10,max_features='sqrt',max_leaf_nodes=None,min_samples_split=8)"
   ]
  },
  {
   "cell_type": "code",
   "execution_count": 13,
   "metadata": {},
   "outputs": [
    {
     "name": "stdout",
     "output_type": "stream",
     "text": [
      "________________ ** 1 ** ____________________\n",
      "[[30  0  0  1]\n",
      " [ 0 43  0  0]\n",
      " [ 0  0 27  0]\n",
      " [ 0  0  0 80]]\n",
      "              precision    recall  f1-score   support\n",
      "\n",
      "         0.0       1.00      0.97      0.98        31\n",
      "        0.19       1.00      1.00      1.00        43\n",
      "         2.5       1.00      1.00      1.00        27\n",
      "         4.5       0.99      1.00      0.99        80\n",
      "\n",
      "    accuracy                           0.99       181\n",
      "   macro avg       1.00      0.99      0.99       181\n",
      "weighted avg       0.99      0.99      0.99       181\n",
      "\n",
      "0.994475138121547\n",
      "________________ ** 2 ** ____________________\n",
      "[[27  0  0  0]\n",
      " [ 0 44  0  0]\n",
      " [ 0  1 28  0]\n",
      " [ 0  0  0 81]]\n",
      "              precision    recall  f1-score   support\n",
      "\n",
      "         0.0       1.00      1.00      1.00        27\n",
      "        0.19       0.98      1.00      0.99        44\n",
      "         2.5       1.00      0.97      0.98        29\n",
      "         4.5       1.00      1.00      1.00        81\n",
      "\n",
      "    accuracy                           0.99       181\n",
      "   macro avg       0.99      0.99      0.99       181\n",
      "weighted avg       0.99      0.99      0.99       181\n",
      "\n",
      "0.994475138121547\n",
      "________________ ** 3 ** ____________________\n",
      "[[32  0  0  0]\n",
      " [ 0 48  0  0]\n",
      " [ 0  0 24  0]\n",
      " [ 0  0  0 76]]\n",
      "              precision    recall  f1-score   support\n",
      "\n",
      "         0.0       1.00      1.00      1.00        32\n",
      "        0.19       1.00      1.00      1.00        48\n",
      "         2.5       1.00      1.00      1.00        24\n",
      "         4.5       1.00      1.00      1.00        76\n",
      "\n",
      "    accuracy                           1.00       180\n",
      "   macro avg       1.00      1.00      1.00       180\n",
      "weighted avg       1.00      1.00      1.00       180\n",
      "\n",
      "1.0\n",
      "________________ ** 4 ** ____________________\n",
      "[[18  0  0  0]\n",
      " [ 0 41  0  1]\n",
      " [ 0  0 32  0]\n",
      " [ 0  0  0 88]]\n",
      "              precision    recall  f1-score   support\n",
      "\n",
      "         0.0       1.00      1.00      1.00        18\n",
      "        0.19       1.00      0.98      0.99        42\n",
      "         2.5       1.00      1.00      1.00        32\n",
      "         4.5       0.99      1.00      0.99        88\n",
      "\n",
      "    accuracy                           0.99       180\n",
      "   macro avg       1.00      0.99      1.00       180\n",
      "weighted avg       0.99      0.99      0.99       180\n",
      "\n",
      "0.9944444444444445\n",
      "________________ ** 5 ** ____________________\n",
      "[[32  0  0  0]\n",
      " [ 0 37  0  0]\n",
      " [ 0  0 28  0]\n",
      " [ 0  0  0 83]]\n",
      "              precision    recall  f1-score   support\n",
      "\n",
      "         0.0       1.00      1.00      1.00        32\n",
      "        0.19       1.00      1.00      1.00        37\n",
      "         2.5       1.00      1.00      1.00        28\n",
      "         4.5       1.00      1.00      1.00        83\n",
      "\n",
      "    accuracy                           1.00       180\n",
      "   macro avg       1.00      1.00      1.00       180\n",
      "weighted avg       1.00      1.00      1.00       180\n",
      "\n",
      "1.0\n",
      "average accuracy :0.9966789441375077\n"
     ]
    }
   ],
   "source": [
    "# applying the 5 fold cross validation\n",
    "i = 1\n",
    "acc_rf = []\n",
    "for train_index, test_index in kf5sh.split(x):\n",
    "#     print(\"TRAIN:\", train_index, \"TEST:\", test_index)\n",
    "    X_train, X_test = x[train_index], x[test_index]\n",
    "    Y_train, Y_test = y[train_index], y[test_index]\n",
    "    model_rf.fit(X_train,Y_train)\n",
    "    y_pred = model_rf.predict(X_test)\n",
    "    print(\"________________ ** {} ** ____________________\".format(i))\n",
    "    print(confusion_matrix(Y_test,y_pred))\n",
    "    print(classification_report(Y_test,y_pred))\n",
    "    print(accuracy_score(Y_test, y_pred))\n",
    "    acc_rf.append(accuracy_score(Y_test, y_pred))\n",
    "    i = i+1\n",
    "    \n",
    "print(\"average accuracy :{}\".format(np.average(acc_rf)))"
   ]
  },
  {
   "cell_type": "code",
   "execution_count": 14,
   "metadata": {},
   "outputs": [
    {
     "data": {
      "text/plain": [
       "0.9911295273173726"
      ]
     },
     "execution_count": 14,
     "metadata": {},
     "output_type": "execute_result"
    }
   ],
   "source": [
    "np.average(cross_val_score(model_rf, x , y))"
   ]
  },
  {
   "cell_type": "code",
   "execution_count": 15,
   "metadata": {},
   "outputs": [],
   "source": [
    "\n",
    "\n",
    "# using NB\n",
    "\n",
    "from sklearn.naive_bayes import GaussianNB"
   ]
  },
  {
   "cell_type": "code",
   "execution_count": 16,
   "metadata": {},
   "outputs": [],
   "source": [
    "model_nb =  GaussianNB(priors=None)"
   ]
  },
  {
   "cell_type": "code",
   "execution_count": 17,
   "metadata": {},
   "outputs": [
    {
     "name": "stdout",
     "output_type": "stream",
     "text": [
      "________________ ** 1 ** ____________________\n",
      "[[28  0  3  0]\n",
      " [ 2 41  0  0]\n",
      " [ 0  0 27  0]\n",
      " [ 0  1  0 79]]\n",
      "              precision    recall  f1-score   support\n",
      "\n",
      "         0.0       0.93      0.90      0.92        31\n",
      "        0.19       0.98      0.95      0.96        43\n",
      "         2.5       0.90      1.00      0.95        27\n",
      "         4.5       1.00      0.99      0.99        80\n",
      "\n",
      "    accuracy                           0.97       181\n",
      "   macro avg       0.95      0.96      0.96       181\n",
      "weighted avg       0.97      0.97      0.97       181\n",
      "\n",
      "0.9668508287292817\n",
      "________________ ** 2 ** ____________________\n",
      "[[27  0  0  0]\n",
      " [ 0 44  0  0]\n",
      " [ 0  0 29  0]\n",
      " [ 2  4  0 75]]\n",
      "              precision    recall  f1-score   support\n",
      "\n",
      "         0.0       0.93      1.00      0.96        27\n",
      "        0.19       0.92      1.00      0.96        44\n",
      "         2.5       1.00      1.00      1.00        29\n",
      "         4.5       1.00      0.93      0.96        81\n",
      "\n",
      "    accuracy                           0.97       181\n",
      "   macro avg       0.96      0.98      0.97       181\n",
      "weighted avg       0.97      0.97      0.97       181\n",
      "\n",
      "0.9668508287292817\n",
      "________________ ** 3 ** ____________________\n",
      "[[32  0  0  0]\n",
      " [ 1 47  0  0]\n",
      " [ 0  0 24  0]\n",
      " [ 3  1  0 72]]\n",
      "              precision    recall  f1-score   support\n",
      "\n",
      "         0.0       0.89      1.00      0.94        32\n",
      "        0.19       0.98      0.98      0.98        48\n",
      "         2.5       1.00      1.00      1.00        24\n",
      "         4.5       1.00      0.95      0.97        76\n",
      "\n",
      "    accuracy                           0.97       180\n",
      "   macro avg       0.97      0.98      0.97       180\n",
      "weighted avg       0.97      0.97      0.97       180\n",
      "\n",
      "0.9722222222222222\n",
      "________________ ** 4 ** ____________________\n",
      "[[18  0  0  0]\n",
      " [ 0 42  0  0]\n",
      " [ 0  0 32  0]\n",
      " [ 0  2  0 86]]\n",
      "              precision    recall  f1-score   support\n",
      "\n",
      "         0.0       1.00      1.00      1.00        18\n",
      "        0.19       0.95      1.00      0.98        42\n",
      "         2.5       1.00      1.00      1.00        32\n",
      "         4.5       1.00      0.98      0.99        88\n",
      "\n",
      "    accuracy                           0.99       180\n",
      "   macro avg       0.99      0.99      0.99       180\n",
      "weighted avg       0.99      0.99      0.99       180\n",
      "\n",
      "0.9888888888888889\n",
      "________________ ** 5 ** ____________________\n",
      "[[32  0  0  0]\n",
      " [ 0 37  0  0]\n",
      " [ 0  0 28  0]\n",
      " [ 0  2  0 81]]\n",
      "              precision    recall  f1-score   support\n",
      "\n",
      "         0.0       1.00      1.00      1.00        32\n",
      "        0.19       0.95      1.00      0.97        37\n",
      "         2.5       1.00      1.00      1.00        28\n",
      "         4.5       1.00      0.98      0.99        83\n",
      "\n",
      "    accuracy                           0.99       180\n",
      "   macro avg       0.99      0.99      0.99       180\n",
      "weighted avg       0.99      0.99      0.99       180\n",
      "\n",
      "0.9888888888888889\n",
      "average accuracy :0.9767403314917127\n"
     ]
    }
   ],
   "source": [
    "# applying the 5 fold cross validation\n",
    "i = 1\n",
    "acc_nb = []\n",
    "for train_index, test_index in kf5sh.split(x):\n",
    "#     print(\"TRAIN:\", train_index, \"TEST:\", test_index)\n",
    "    X_train, X_test = x[train_index], x[test_index]\n",
    "    Y_train, Y_test = y[train_index], y[test_index]\n",
    "    model_nb.fit(X_train,Y_train)\n",
    "    y_pred = model_nb.predict(X_test)\n",
    "    print(\"________________ ** {} ** ____________________\".format(i))\n",
    "    print(confusion_matrix(Y_test,y_pred))\n",
    "    print(classification_report(Y_test,y_pred))\n",
    "    print(accuracy_score(Y_test, y_pred))\n",
    "    acc_nb.append(accuracy_score(Y_test, y_pred))\n",
    "    i = i+1\n",
    "    \n",
    "print(\"average accuracy :{}\".format(np.average(acc_nb)))"
   ]
  },
  {
   "cell_type": "code",
   "execution_count": 18,
   "metadata": {},
   "outputs": [
    {
     "name": "stdout",
     "output_type": "stream",
     "text": [
      "_______________________________________ACCURACY TABLE______________________________________________________\n",
      "||________________________SVM__________________||____________________0.9933578882750155____________________\n",
      "||__________________RANDOM_FOREST______________||____________________0.9966789441375077____________________\n",
      "||________________________NB___________________||____________________0.9767403314917127____________________\n"
     ]
    }
   ],
   "source": [
    "print(\"_______________________________________ACCURACY TABLE______________________________________________________\")\n",
    "print(\"||________________________SVM__________________||____________________{}____________________\".format(np.average(acc_svm)))\n",
    "print(\"||__________________RANDOM_FOREST______________||____________________{}____________________\".format(np.average(acc_rf)))\n",
    "print(\"||________________________NB___________________||____________________{}____________________\".format(np.average(acc_nb)))"
   ]
  },
  {
   "cell_type": "code",
   "execution_count": null,
   "metadata": {},
   "outputs": [],
   "source": [
    "# using cross_val\n",
    "print(\"_______________________________________ACCURACY TABLE______________________________________________________\")\n",
    "print(\"||________________________SVM__________________||____________________{}____________________\".format(np.average(acc_svm)))\n",
    "print(\"||__________________RANDOM_FOREST______________||____________________{}____________________\".format(np.average(cross_val_score(model_rf, x , y))))\n",
    "print(\"||________________________NB___________________||____________________{}____________________\".format(np.average(acc_nb)))"
   ]
  }
 ],
 "metadata": {
  "kernelspec": {
   "display_name": "Python 3",
   "language": "python",
   "name": "python3"
  },
  "language_info": {
   "codemirror_mode": {
    "name": "ipython",
    "version": 3
   },
   "file_extension": ".py",
   "mimetype": "text/x-python",
   "name": "python",
   "nbconvert_exporter": "python",
   "pygments_lexer": "ipython3",
   "version": "3.8.5"
  }
 },
 "nbformat": 4,
 "nbformat_minor": 4
}
